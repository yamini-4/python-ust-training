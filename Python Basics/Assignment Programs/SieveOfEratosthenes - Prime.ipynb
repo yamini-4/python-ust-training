{
 "cells": [
  {
   "cell_type": "code",
   "execution_count": 1,
   "id": "dcbf38b5",
   "metadata": {},
   "outputs": [
    {
     "name": "stdout",
     "output_type": "stream",
     "text": [
      "Following are the prime numbers smaller than or equal to 300\n",
      "2 3 5 7 11 13 17 19 23 29 31 37 41 43 47 53 59 61 67 71 73 79 83 89 97 101 103 107 109 113 127 131 137 139 149 151 157 163 167 173 179 181 191 193 197 199 211 223 227 229 233 239 241 251 257 263 269 271 277 281 283 293 "
     ]
    }
   ],
   "source": [
    "def SieveOfEratosthenes(n):\n",
    "     \n",
    "    \n",
    "    prime = [True for i in range(n + 1)]\n",
    "    p = 2\n",
    "    while (p * p <= n):\n",
    "         \n",
    "        if (prime[p] == True):\n",
    "               \n",
    "            for i in range(p ** 2, n + 1, p):\n",
    "                prime[i] = False\n",
    "        p += 1\n",
    "    prime[0]= False\n",
    "    prime[1]= False\n",
    "    # Print all prime numbers\n",
    "    for p in range(n + 1):\n",
    "        if prime[p]:\n",
    "            print (p,end=' ')\n",
    " \n",
    "if __name__=='__main__':\n",
    "    n = 300\n",
    "    print (\"Following are the prime numbers smaller\", end=' ')\n",
    "    \n",
    "    print (\"than or equal to\", n)\n",
    "  \n",
    "    SieveOfEratosthenes(n)"
   ]
  },
  {
   "cell_type": "code",
   "execution_count": null,
   "id": "ae399ef0",
   "metadata": {},
   "outputs": [],
   "source": []
  }
 ],
 "metadata": {
  "kernelspec": {
   "display_name": "Python 3 (ipykernel)",
   "language": "python",
   "name": "python3"
  },
  "language_info": {
   "codemirror_mode": {
    "name": "ipython",
    "version": 3
   },
   "file_extension": ".py",
   "mimetype": "text/x-python",
   "name": "python",
   "nbconvert_exporter": "python",
   "pygments_lexer": "ipython3",
   "version": "3.9.7"
  }
 },
 "nbformat": 4,
 "nbformat_minor": 5
}
