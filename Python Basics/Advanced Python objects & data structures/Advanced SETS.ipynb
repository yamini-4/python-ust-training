{
 "cells": [
  {
   "cell_type": "code",
   "execution_count": 1,
   "id": "29b460d6",
   "metadata": {},
   "outputs": [
    {
     "ename": "SyntaxError",
     "evalue": "invalid syntax (4101775397.py, line 3)",
     "output_type": "error",
     "traceback": [
      "\u001b[0;36m  File \u001b[0;32m\"/var/folders/lz/dz5l72956dv398x5vv3zq5540000gn/T/ipykernel_49550/4101775397.py\"\u001b[0;36m, line \u001b[0;32m3\u001b[0m\n\u001b[0;31m    1.Immutable => they cannot be changed\u001b[0m\n\u001b[0m      ^\u001b[0m\n\u001b[0;31mSyntaxError\u001b[0m\u001b[0;31m:\u001b[0m invalid syntax\n"
     ]
    }
   ],
   "source": [
    "SETS\n",
    "\n",
    "1.Immutable => they cannot be changed\n",
    "2.Unordered\n",
    "3.Unindexed\n",
    "4.Doesnt support duplicate entries\n",
    "5.support different datatypes\n",
    "\n",
    "s= set()\n",
    "s = set({2,33, 44})"
   ]
  },
  {
   "cell_type": "code",
   "execution_count": 2,
   "id": "77f55ae6",
   "metadata": {},
   "outputs": [
    {
     "data": {
      "text/plain": [
       "{2, 33, 44}"
      ]
     },
     "execution_count": 2,
     "metadata": {},
     "output_type": "execute_result"
    }
   ],
   "source": [
    "s = set({2,33, 44})\n",
    "s"
   ]
  },
  {
   "cell_type": "code",
   "execution_count": 4,
   "id": "b986c410",
   "metadata": {},
   "outputs": [
    {
     "data": {
      "text/plain": [
       "{2, 33, 44, 55}"
      ]
     },
     "execution_count": 4,
     "metadata": {},
     "output_type": "execute_result"
    }
   ],
   "source": [
    "#add()\n",
    "\n",
    "s.add(55)\n",
    "s"
   ]
  },
  {
   "cell_type": "code",
   "execution_count": 5,
   "id": "6f2139ea",
   "metadata": {},
   "outputs": [
    {
     "data": {
      "text/plain": [
       "set()"
      ]
     },
     "execution_count": 5,
     "metadata": {},
     "output_type": "execute_result"
    }
   ],
   "source": [
    "#clear()         removes all the elements\n",
    "\n",
    "s.clear()\n",
    "s"
   ]
  },
  {
   "cell_type": "code",
   "execution_count": 7,
   "id": "8fdbe89c",
   "metadata": {},
   "outputs": [
    {
     "data": {
      "text/plain": [
       "{2, 33, 44}"
      ]
     },
     "execution_count": 7,
     "metadata": {},
     "output_type": "execute_result"
    }
   ],
   "source": [
    "#copy()\n",
    "\n",
    "s = set({2,33, 44})\n",
    "s_copy = s.copy()\n",
    "s_copy"
   ]
  },
  {
   "cell_type": "code",
   "execution_count": 8,
   "id": "4e86a68a",
   "metadata": {},
   "outputs": [
    {
     "data": {
      "text/plain": [
       "{2, 33, 44, 55}"
      ]
     },
     "execution_count": 8,
     "metadata": {},
     "output_type": "execute_result"
    }
   ],
   "source": [
    "s.add(55)\n",
    "s"
   ]
  },
  {
   "cell_type": "code",
   "execution_count": 9,
   "id": "a6478e46",
   "metadata": {},
   "outputs": [
    {
     "data": {
      "text/plain": [
       "{2, 33, 44}"
      ]
     },
     "execution_count": 9,
     "metadata": {},
     "output_type": "execute_result"
    }
   ],
   "source": [
    "s_copy"
   ]
  },
  {
   "cell_type": "code",
   "execution_count": 10,
   "id": "d8e80abd",
   "metadata": {},
   "outputs": [
    {
     "data": {
      "text/plain": [
       "{2, 44, 55}"
      ]
     },
     "execution_count": 10,
     "metadata": {},
     "output_type": "execute_result"
    }
   ],
   "source": [
    "#discard()        remove the element\n",
    "\n",
    "s.discard(33)\n",
    "s"
   ]
  },
  {
   "cell_type": "code",
   "execution_count": 11,
   "id": "1a3f85ce",
   "metadata": {},
   "outputs": [
    {
     "data": {
      "text/plain": [
       "{55}"
      ]
     },
     "execution_count": 11,
     "metadata": {},
     "output_type": "execute_result"
    }
   ],
   "source": [
    "#difference()\n",
    "\n",
    "s = set({2,33, 44, 55})\n",
    "s_copy = {2,33, 44}\n",
    "s.difference(s_copy)"
   ]
  },
  {
   "cell_type": "code",
   "execution_count": 22,
   "id": "ce197109",
   "metadata": {},
   "outputs": [
    {
     "data": {
      "text/plain": [
       "{55}"
      ]
     },
     "execution_count": 22,
     "metadata": {},
     "output_type": "execute_result"
    }
   ],
   "source": [
    "#difference_update\n",
    "\n",
    "s = set({2,33, 44, 55, 66})\n",
    "s_copy = {2,33, 44,66}\n",
    "\n",
    "s.difference_update(s_copy)\n",
    "\n",
    "s"
   ]
  },
  {
   "cell_type": "code",
   "execution_count": 23,
   "id": "eff2e304",
   "metadata": {},
   "outputs": [
    {
     "data": {
      "text/plain": [
       "{2, 33, 44, 66}"
      ]
     },
     "execution_count": 23,
     "metadata": {},
     "output_type": "execute_result"
    }
   ],
   "source": [
    "#intersection()\n",
    "\n",
    "#new set as output\n",
    "\n",
    "s = set({2,33, 44, 55, 66})\n",
    "s_copy = {2,33, 44,66}\n",
    "s.intersection(s_copy)"
   ]
  },
  {
   "cell_type": "code",
   "execution_count": 26,
   "id": "ce06fd08",
   "metadata": {},
   "outputs": [
    {
     "data": {
      "text/plain": [
       "False"
      ]
     },
     "execution_count": 26,
     "metadata": {},
     "output_type": "execute_result"
    }
   ],
   "source": [
    "#isdisjoint()     null intersection\n",
    "\n",
    "s1 = {1, 2, 3}\n",
    "s2 = {6, 5, 4}\n",
    "s3 = {1, 2, 3,  9, 8,6}\n",
    "s1.isdisjoint(s3)"
   ]
  },
  {
   "cell_type": "code",
   "execution_count": 42,
   "id": "9485c783",
   "metadata": {},
   "outputs": [
    {
     "data": {
      "text/plain": [
       "False"
      ]
     },
     "execution_count": 42,
     "metadata": {},
     "output_type": "execute_result"
    }
   ],
   "source": [
    "#issubset()\n",
    "\n",
    "s1 = {1, 2, 3}\n",
    "s2 = {6, 5, 4}\n",
    "s3 = {1, 2, 3, 9, 8,6}\n",
    "s2.issubset(s3)\n"
   ]
  },
  {
   "cell_type": "code",
   "execution_count": 44,
   "id": "a470fa29",
   "metadata": {},
   "outputs": [
    {
     "data": {
      "text/plain": [
       "False"
      ]
     },
     "execution_count": 44,
     "metadata": {},
     "output_type": "execute_result"
    }
   ],
   "source": [
    "#issupernet()\n",
    "\n",
    "s1.issuperset(s3)"
   ]
  },
  {
   "cell_type": "code",
   "execution_count": 36,
   "id": "311e525c",
   "metadata": {},
   "outputs": [
    {
     "data": {
      "text/plain": [
       "{1, 2, 3, 4, 5, 6}"
      ]
     },
     "execution_count": 36,
     "metadata": {},
     "output_type": "execute_result"
    }
   ],
   "source": [
    "#union\n",
    "\n",
    "s1 = {1, 2, 3}\n",
    "s2 = {1, 2, 6, 5, 4}\n",
    "s2.union(s1)\n"
   ]
  },
  {
   "cell_type": "code",
   "execution_count": 40,
   "id": "f2864632",
   "metadata": {},
   "outputs": [
    {
     "name": "stdout",
     "output_type": "stream",
     "text": [
      "{1, 2, 3, 4, 5, 6}\n"
     ]
    }
   ],
   "source": [
    "#update\n",
    "\n",
    "\n",
    "s1 = {1, 2, 3}\n",
    "s2 = {1, 2, 6, 5, 4}\n",
    "s1.update(s2)\n",
    "print(s1)"
   ]
  },
  {
   "cell_type": "code",
   "execution_count": 41,
   "id": "d6a79609",
   "metadata": {},
   "outputs": [
    {
     "name": "stdout",
     "output_type": "stream",
     "text": [
      "{1, 2, 3, 4, 5, 6}\n"
     ]
    }
   ],
   "source": [
    "\n",
    "s1 = {1, 2, 3}\n",
    "s2 = {1, 2, 6, 5, 4}\n",
    "s2.update(s1)\n",
    "print(s2)"
   ]
  },
  {
   "cell_type": "code",
   "execution_count": null,
   "id": "d9c1d5c3",
   "metadata": {},
   "outputs": [],
   "source": []
  }
 ],
 "metadata": {
  "kernelspec": {
   "display_name": "Python 3 (ipykernel)",
   "language": "python",
   "name": "python3"
  },
  "language_info": {
   "codemirror_mode": {
    "name": "ipython",
    "version": 3
   },
   "file_extension": ".py",
   "mimetype": "text/x-python",
   "name": "python",
   "nbconvert_exporter": "python",
   "pygments_lexer": "ipython3",
   "version": "3.9.7"
  }
 },
 "nbformat": 4,
 "nbformat_minor": 5
}
