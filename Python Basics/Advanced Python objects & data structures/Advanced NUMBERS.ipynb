{
 "cells": [
  {
   "cell_type": "markdown",
   "id": "a74addac",
   "metadata": {},
   "source": [
    "## "
   ]
  },
  {
   "cell_type": "code",
   "execution_count": 17,
   "id": "b1c718f6",
   "metadata": {},
   "outputs": [
    {
     "data": {
      "text/plain": [
       "'0x2a'"
      ]
     },
     "execution_count": 17,
     "metadata": {},
     "output_type": "execute_result"
    }
   ],
   "source": [
    "#HEXADECIMAL\n",
    "\n",
    "hex(42)"
   ]
  },
  {
   "cell_type": "code",
   "execution_count": 18,
   "id": "46404865",
   "metadata": {},
   "outputs": [
    {
     "data": {
      "text/plain": [
       "'0b101101'"
      ]
     },
     "execution_count": 18,
     "metadata": {},
     "output_type": "execute_result"
    }
   ],
   "source": [
    "#BINARY\n",
    "\n",
    "bin(45)"
   ]
  },
  {
   "cell_type": "code",
   "execution_count": 20,
   "id": "dbe15278",
   "metadata": {},
   "outputs": [
    {
     "ename": "TypeError",
     "evalue": "'float' object cannot be interpreted as an integer",
     "output_type": "error",
     "traceback": [
      "\u001b[0;31m---------------------------------------------------------------------------\u001b[0m",
      "\u001b[0;31mTypeError\u001b[0m                                 Traceback (most recent call last)",
      "\u001b[0;32m/var/folders/lz/dz5l72956dv398x5vv3zq5540000gn/T/ipykernel_49532/2211867860.py\u001b[0m in \u001b[0;36m<module>\u001b[0;34m\u001b[0m\n\u001b[0;32m----> 1\u001b[0;31m \u001b[0mbin\u001b[0m\u001b[0;34m(\u001b[0m\u001b[0;36m2.2\u001b[0m\u001b[0;34m)\u001b[0m\u001b[0;34m\u001b[0m\u001b[0;34m\u001b[0m\u001b[0m\n\u001b[0m",
      "\u001b[0;31mTypeError\u001b[0m: 'float' object cannot be interpreted as an integer"
     ]
    }
   ],
   "source": [
    "bin(2.2)"
   ]
  },
  {
   "cell_type": "code",
   "execution_count": 30,
   "id": "71cf9f5a",
   "metadata": {},
   "outputs": [
    {
     "data": {
      "text/plain": [
       "125"
      ]
     },
     "execution_count": 30,
     "metadata": {},
     "output_type": "execute_result"
    }
   ],
   "source": [
    "#EXPONENTIAL\n",
    "\n",
    "#pow()\n",
    "\n",
    "#x^y  =>  2^4   =2*2*2*2  16\n",
    "\n",
    "pow(5,3)"
   ]
  },
  {
   "cell_type": "code",
   "execution_count": 23,
   "id": "9cac14d4",
   "metadata": {},
   "outputs": [
    {
     "data": {
      "text/plain": [
       "4.56"
      ]
     },
     "execution_count": 23,
     "metadata": {},
     "output_type": "execute_result"
    }
   ],
   "source": [
    "#ABSOLUTE VALUE         only positive value\n",
    "\n",
    "abs(-4.56)"
   ]
  },
  {
   "cell_type": "code",
   "execution_count": 24,
   "id": "9309d1f2",
   "metadata": {},
   "outputs": [
    {
     "data": {
      "text/plain": [
       "44"
      ]
     },
     "execution_count": 24,
     "metadata": {},
     "output_type": "execute_result"
    }
   ],
   "source": [
    "abs(-44)"
   ]
  },
  {
   "cell_type": "code",
   "execution_count": null,
   "id": "95c51b0a",
   "metadata": {},
   "outputs": [],
   "source": [
    "#ROUND\n",
    "\n",
    "round(number, digit) #digit is optional"
   ]
  },
  {
   "cell_type": "code",
   "execution_count": 26,
   "id": "96643b9e",
   "metadata": {},
   "outputs": [
    {
     "data": {
      "text/plain": [
       "6.57"
      ]
     },
     "execution_count": 26,
     "metadata": {},
     "output_type": "execute_result"
    }
   ],
   "source": [
    "round(6.567, 2)"
   ]
  },
  {
   "cell_type": "code",
   "execution_count": 29,
   "id": "8d064879",
   "metadata": {},
   "outputs": [
    {
     "data": {
      "text/plain": [
       "300"
      ]
     },
     "execution_count": 29,
     "metadata": {},
     "output_type": "execute_result"
    }
   ],
   "source": [
    "round(339, -2)"
   ]
  },
  {
   "cell_type": "code",
   "execution_count": null,
   "id": "451dfbd5",
   "metadata": {},
   "outputs": [],
   "source": []
  }
 ],
 "metadata": {
  "kernelspec": {
   "display_name": "Python 3 (ipykernel)",
   "language": "python",
   "name": "python3"
  },
  "language_info": {
   "codemirror_mode": {
    "name": "ipython",
    "version": 3
   },
   "file_extension": ".py",
   "mimetype": "text/x-python",
   "name": "python",
   "nbconvert_exporter": "python",
   "pygments_lexer": "ipython3",
   "version": "3.9.7"
  }
 },
 "nbformat": 4,
 "nbformat_minor": 5
}
