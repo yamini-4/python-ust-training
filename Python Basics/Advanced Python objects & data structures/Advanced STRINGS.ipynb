{
 "cells": [
  {
   "cell_type": "code",
   "execution_count": null,
   "id": "18191d91",
   "metadata": {},
   "outputs": [],
   "source": [
    "#string\n",
    "\n",
    "str = \"hello\"\n",
    "str = 'hello'"
   ]
  },
  {
   "cell_type": "code",
   "execution_count": 2,
   "id": "d381e24b",
   "metadata": {},
   "outputs": [
    {
     "data": {
      "text/plain": [
       "'HELLO WORLD'"
      ]
     },
     "execution_count": 2,
     "metadata": {},
     "output_type": "execute_result"
    }
   ],
   "source": [
    "#CHANGING CASES\n",
    "\n",
    "#upper\n",
    "\n",
    "s = 'hello world'\n",
    "s.upper()\n",
    "\n"
   ]
  },
  {
   "cell_type": "code",
   "execution_count": 3,
   "id": "880e82bc",
   "metadata": {},
   "outputs": [
    {
     "data": {
      "text/plain": [
       "'heloo world'"
      ]
     },
     "execution_count": 3,
     "metadata": {},
     "output_type": "execute_result"
    }
   ],
   "source": [
    "#lower\n",
    "\n",
    "s = \"HELOO World\"\n",
    "s.lower()"
   ]
  },
  {
   "cell_type": "code",
   "execution_count": 4,
   "id": "cbb77815",
   "metadata": {},
   "outputs": [
    {
     "data": {
      "text/plain": [
       "'Welcome home'"
      ]
     },
     "execution_count": 4,
     "metadata": {},
     "output_type": "execute_result"
    }
   ],
   "source": [
    "#capitalize()\n",
    "\n",
    "s = \"welcome home\"\n",
    "s.capitalize()"
   ]
  },
  {
   "cell_type": "code",
   "execution_count": null,
   "id": "338ed079",
   "metadata": {},
   "outputs": [],
   "source": [
    "#LOCATION\n",
    "\n",
    "find()"
   ]
  },
  {
   "cell_type": "code",
   "execution_count": 6,
   "id": "d896f183",
   "metadata": {},
   "outputs": [
    {
     "data": {
      "text/plain": [
       "6"
      ]
     },
     "execution_count": 6,
     "metadata": {},
     "output_type": "execute_result"
    }
   ],
   "source": [
    "s = \"hello all\"\n",
    "s.find('a')"
   ]
  },
  {
   "cell_type": "code",
   "execution_count": null,
   "id": "649fa670",
   "metadata": {},
   "outputs": [],
   "source": []
  },
  {
   "cell_type": "code",
   "execution_count": null,
   "id": "0bbe75cd",
   "metadata": {},
   "outputs": [],
   "source": [
    "#COUNTING\n",
    "\n",
    "count()"
   ]
  },
  {
   "cell_type": "code",
   "execution_count": 8,
   "id": "b608c28f",
   "metadata": {},
   "outputs": [
    {
     "data": {
      "text/plain": [
       "1"
      ]
     },
     "execution_count": 8,
     "metadata": {},
     "output_type": "execute_result"
    }
   ],
   "source": [
    "s = \"hello all\"\n",
    "s.count('e')"
   ]
  },
  {
   "cell_type": "code",
   "execution_count": null,
   "id": "4699711a",
   "metadata": {},
   "outputs": [],
   "source": [
    "#FORMATTING"
   ]
  },
  {
   "cell_type": "code",
   "execution_count": null,
   "id": "0886e82b",
   "metadata": {},
   "outputs": [],
   "source": [
    "#expanttabs()        replace \\t with tab space"
   ]
  },
  {
   "cell_type": "code",
   "execution_count": 9,
   "id": "d841cba4",
   "metadata": {},
   "outputs": [
    {
     "data": {
      "text/plain": [
       "'Pyth    on'"
      ]
     },
     "execution_count": 9,
     "metadata": {},
     "output_type": "execute_result"
    }
   ],
   "source": [
    "\"Pyth\\ton\".expandtabs()"
   ]
  },
  {
   "cell_type": "code",
   "execution_count": 10,
   "id": "47ab1e22",
   "metadata": {},
   "outputs": [
    {
     "data": {
      "text/plain": [
       "'hel     lo c    omp     uter'"
      ]
     },
     "execution_count": 10,
     "metadata": {},
     "output_type": "execute_result"
    }
   ],
   "source": [
    "\"hel\\tlo c\\tomp\\tuter\".expandtabs()"
   ]
  },
  {
   "cell_type": "code",
   "execution_count": null,
   "id": "8b90bd5f",
   "metadata": {},
   "outputs": [],
   "source": [
    "#IS CHECK METHODS\n",
    "\n",
    "# Returns boolean value"
   ]
  },
  {
   "cell_type": "code",
   "execution_count": null,
   "id": "10c937cf",
   "metadata": {},
   "outputs": [],
   "source": [
    "#isalpha()     alphabets"
   ]
  },
  {
   "cell_type": "code",
   "execution_count": 14,
   "id": "afae56d3",
   "metadata": {},
   "outputs": [
    {
     "data": {
      "text/plain": [
       "False"
      ]
     },
     "execution_count": 14,
     "metadata": {},
     "output_type": "execute_result"
    }
   ],
   "source": [
    "str =\"helloall4545\"\n",
    "str.isalpha()"
   ]
  },
  {
   "cell_type": "code",
   "execution_count": null,
   "id": "e7b954e3",
   "metadata": {},
   "outputs": [],
   "source": [
    "#isalnum()      alphanumerical"
   ]
  },
  {
   "cell_type": "code",
   "execution_count": 18,
   "id": "f886cd1f",
   "metadata": {},
   "outputs": [
    {
     "data": {
      "text/plain": [
       "False"
      ]
     },
     "execution_count": 18,
     "metadata": {},
     "output_type": "execute_result"
    }
   ],
   "source": [
    "str = \"hello 123\"\n",
    "str.isalnum()"
   ]
  },
  {
   "cell_type": "code",
   "execution_count": null,
   "id": "0ed62aee",
   "metadata": {},
   "outputs": [],
   "source": [
    "islower()"
   ]
  },
  {
   "cell_type": "code",
   "execution_count": 20,
   "id": "668dda80",
   "metadata": {},
   "outputs": [
    {
     "data": {
      "text/plain": [
       "True"
      ]
     },
     "execution_count": 20,
     "metadata": {},
     "output_type": "execute_result"
    }
   ],
   "source": [
    "s = \"hey all\"\n",
    "s.islower()"
   ]
  },
  {
   "cell_type": "code",
   "execution_count": 22,
   "id": "07a5c7fe",
   "metadata": {},
   "outputs": [
    {
     "data": {
      "text/plain": [
       "False"
      ]
     },
     "execution_count": 22,
     "metadata": {},
     "output_type": "execute_result"
    }
   ],
   "source": [
    "#isupper()\n",
    "\n",
    "s = \"HELLoo\"\n",
    "s.isupper()"
   ]
  },
  {
   "cell_type": "code",
   "execution_count": 27,
   "id": "574b0e1f",
   "metadata": {},
   "outputs": [
    {
     "data": {
      "text/plain": [
       "False"
      ]
     },
     "execution_count": 27,
     "metadata": {},
     "output_type": "execute_result"
    }
   ],
   "source": [
    "#endswith()\n",
    "\n",
    "s = \"HELLO\"\n",
    "s.endswith('o')"
   ]
  },
  {
   "cell_type": "code",
   "execution_count": 29,
   "id": "03eca331",
   "metadata": {},
   "outputs": [
    {
     "data": {
      "text/plain": [
       "False"
      ]
     },
     "execution_count": 29,
     "metadata": {},
     "output_type": "execute_result"
    }
   ],
   "source": [
    "#istitle()       only first character is upper case\n",
    "\n",
    "s = \"hellooo\"\n",
    "s.istitle()"
   ]
  },
  {
   "cell_type": "code",
   "execution_count": null,
   "id": "7a22fb33",
   "metadata": {},
   "outputs": [],
   "source": [
    "#Built in REGULAR EXPRESSIONS"
   ]
  },
  {
   "cell_type": "code",
   "execution_count": 23,
   "id": "bbc6e36a",
   "metadata": {},
   "outputs": [
    {
     "data": {
      "text/plain": [
       "['h', 'y wolrd']"
      ]
     },
     "execution_count": 23,
     "metadata": {},
     "output_type": "execute_result"
    }
   ],
   "source": [
    "#split()     output as list\n",
    "\n",
    "str = \"hey wolrd\"\n",
    "str.split('e')"
   ]
  },
  {
   "cell_type": "code",
   "execution_count": 24,
   "id": "fcbb7b03",
   "metadata": {},
   "outputs": [
    {
     "data": {
      "text/plain": [
       "('h', 'e', 'y wolrd')"
      ]
     },
     "execution_count": 24,
     "metadata": {},
     "output_type": "execute_result"
    }
   ],
   "source": [
    "#partition()    output as tuple\n",
    "\n",
    "str = \"hey wolrd\"\n",
    "str.partition('e')"
   ]
  },
  {
   "cell_type": "code",
   "execution_count": null,
   "id": "63fdf2f9",
   "metadata": {},
   "outputs": [],
   "source": []
  }
 ],
 "metadata": {
  "kernelspec": {
   "display_name": "Python 3 (ipykernel)",
   "language": "python",
   "name": "python3"
  },
  "language_info": {
   "codemirror_mode": {
    "name": "ipython",
    "version": 3
   },
   "file_extension": ".py",
   "mimetype": "text/x-python",
   "name": "python",
   "nbconvert_exporter": "python",
   "pygments_lexer": "ipython3",
   "version": "3.9.7"
  }
 },
 "nbformat": 4,
 "nbformat_minor": 5
}
