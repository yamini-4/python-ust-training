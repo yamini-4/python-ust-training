{
 "cells": [
  {
   "cell_type": "code",
   "execution_count": 33,
   "id": "e5351129",
   "metadata": {},
   "outputs": [
    {
     "name": "stdout",
     "output_type": "stream",
     "text": [
      "apple of my eye\n"
     ]
    }
   ],
   "source": [
    "a = \"apple of my eye\"\n",
    "print( a )"
   ]
  },
  {
   "cell_type": "code",
   "execution_count": null,
   "id": "ac1d3808",
   "metadata": {},
   "outputs": [],
   "source": []
  },
  {
   "cell_type": "code",
   "execution_count": 34,
   "id": "aca5e892",
   "metadata": {},
   "outputs": [
    {
     "data": {
      "text/plain": [
       "15"
      ]
     },
     "execution_count": 34,
     "metadata": {},
     "output_type": "execute_result"
    }
   ],
   "source": [
    "len( a )"
   ]
  },
  {
   "cell_type": "code",
   "execution_count": 35,
   "id": "9b4d2e50",
   "metadata": {},
   "outputs": [
    {
     "data": {
      "text/plain": [
       "['apple', 'of', 'my', 'eye']"
      ]
     },
     "execution_count": 35,
     "metadata": {},
     "output_type": "execute_result"
    }
   ],
   "source": [
    "a = \"apple of my eye\"\n",
    "a.split()\n"
   ]
  },
  {
   "cell_type": "code",
   "execution_count": 36,
   "id": "d7e624c9",
   "metadata": {},
   "outputs": [
    {
     "data": {
      "text/plain": [
       "('apple', 'of', 'myeye')"
      ]
     },
     "execution_count": 36,
     "metadata": {},
     "output_type": "execute_result"
    }
   ],
   "source": [
    "a = \"appleofmyeye\"\n",
    "a.partition('of')"
   ]
  },
  {
   "cell_type": "code",
   "execution_count": 37,
   "id": "c4e924bc",
   "metadata": {},
   "outputs": [
    {
     "data": {
      "text/plain": [
       "'* apple of my eye* apple of my eye*'"
      ]
     },
     "execution_count": 37,
     "metadata": {},
     "output_type": "execute_result"
    }
   ],
   "source": [
    "a = \" apple of my eye\"\n",
    "a.join('***')"
   ]
  },
  {
   "cell_type": "code",
   "execution_count": 38,
   "id": "616b35b2",
   "metadata": {},
   "outputs": [
    {
     "data": {
      "text/plain": [
       "'Todays date is 8 February'"
      ]
     },
     "execution_count": 38,
     "metadata": {},
     "output_type": "execute_result"
    }
   ],
   "source": [
    "#FORMATS\n",
    "\n",
    "'Todays date is {0} {1}'.format(8, 'February')"
   ]
  },
  {
   "cell_type": "code",
   "execution_count": 39,
   "id": "a63d01b5",
   "metadata": {},
   "outputs": [
    {
     "data": {
      "text/plain": [
       "'THE VALUE OF A IS 16'"
      ]
     },
     "execution_count": 39,
     "metadata": {},
     "output_type": "execute_result"
    }
   ],
   "source": [
    "#f-STRING\n",
    "\n",
    "a = 4*4\n",
    "f'THE VALUE OF A IS {a}'"
   ]
  },
  {
   "cell_type": "code",
   "execution_count": 40,
   "id": "dd3feabd",
   "metadata": {},
   "outputs": [
    {
     "data": {
      "text/plain": [
       "'Yamini'"
      ]
     },
     "execution_count": 40,
     "metadata": {},
     "output_type": "execute_result"
    }
   ],
   "source": [
    "name = \"yamini\"\n",
    "name.capitalize()"
   ]
  },
  {
   "cell_type": "code",
   "execution_count": null,
   "id": "72222df6",
   "metadata": {},
   "outputs": [],
   "source": []
  },
  {
   "cell_type": "code",
   "execution_count": null,
   "id": "b5784898",
   "metadata": {},
   "outputs": [],
   "source": []
  }
 ],
 "metadata": {
  "kernelspec": {
   "display_name": "Python 3 (ipykernel)",
   "language": "python",
   "name": "python3"
  },
  "language_info": {
   "codemirror_mode": {
    "name": "ipython",
    "version": 3
   },
   "file_extension": ".py",
   "mimetype": "text/x-python",
   "name": "python",
   "nbconvert_exporter": "python",
   "pygments_lexer": "ipython3",
   "version": "3.9.7"
  }
 },
 "nbformat": 4,
 "nbformat_minor": 5
}
