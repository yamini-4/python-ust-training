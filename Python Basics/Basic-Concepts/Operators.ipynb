{
 "cells": [
  {
   "cell_type": "code",
   "execution_count": 1,
   "id": "bdbb4265",
   "metadata": {},
   "outputs": [
    {
     "name": "stdout",
     "output_type": "stream",
     "text": [
      "13 3 40 1.6 3 32768 1\n"
     ]
    }
   ],
   "source": [
    "#ARITHMETIC OPERATORS\n",
    "\n",
    "a = 8\n",
    "b = 5\n",
    "c = a + b\n",
    "d = a - b\n",
    "e = a * b\n",
    "f = a / b\n",
    "\n",
    "print(c, d, e, f)"
   ]
  },
  {
   "cell_type": "code",
   "execution_count": 4,
   "id": "0f1fc8e5",
   "metadata": {},
   "outputs": [
    {
     "name": "stdout",
     "output_type": "stream",
     "text": [
      "3 551473077343 44\n"
     ]
    }
   ],
   "source": [
    "a = 223\n",
    "b = 5\n",
    "\n",
    "g = a % b\n",
    "h = a ** b\n",
    "i = a // b\n",
    "print(g, h, i)"
   ]
  },
  {
   "cell_type": "code",
   "execution_count": 6,
   "id": "e5eadbd4",
   "metadata": {},
   "outputs": [
    {
     "name": "stdout",
     "output_type": "stream",
     "text": [
      "4\n"
     ]
    }
   ],
   "source": [
    "#ASSIGNMENT OPERATORS\n",
    "\n",
    "x = 4\n",
    "print(x)\n"
   ]
  },
  {
   "cell_type": "code",
   "execution_count": 7,
   "id": "8b0a6846",
   "metadata": {},
   "outputs": [
    {
     "name": "stdout",
     "output_type": "stream",
     "text": [
      "6\n",
      "2\n",
      "8\n"
     ]
    }
   ],
   "source": [
    "x = 4\n",
    "x += 2\n",
    "print(x)\n",
    "\n",
    "x = 4\n",
    "x -= 2\n",
    "print(x)\n",
    "\n",
    "x = 4\n",
    "x *= 2\n",
    "print(x)"
   ]
  },
  {
   "cell_type": "code",
   "execution_count": 8,
   "id": "02a897fb",
   "metadata": {},
   "outputs": [
    {
     "name": "stdout",
     "output_type": "stream",
     "text": [
      "4.0\n"
     ]
    }
   ],
   "source": [
    "x = 16\n",
    "x /= 4\n",
    "print(x)\n"
   ]
  },
  {
   "cell_type": "code",
   "execution_count": 9,
   "id": "b87ceb9f",
   "metadata": {},
   "outputs": [
    {
     "name": "stdout",
     "output_type": "stream",
     "text": [
      "64\n"
     ]
    }
   ],
   "source": [
    "x = 16\n",
    "x *= 4\n",
    "print(x)"
   ]
  },
  {
   "cell_type": "code",
   "execution_count": 15,
   "id": "b000052b",
   "metadata": {},
   "outputs": [
    {
     "name": "stdout",
     "output_type": "stream",
     "text": [
      "6\n"
     ]
    }
   ],
   "source": [
    "x = 20\n",
    "y = x // 3\n",
    "print(y)"
   ]
  },
  {
   "cell_type": "code",
   "execution_count": 17,
   "id": "e23a249b",
   "metadata": {},
   "outputs": [
    {
     "name": "stdout",
     "output_type": "stream",
     "text": [
      "8000\n"
     ]
    }
   ],
   "source": [
    "x = 20\n",
    "x = x ** 3\n",
    "print(x)"
   ]
  },
  {
   "cell_type": "code",
   "execution_count": 23,
   "id": "a8bd4270",
   "metadata": {},
   "outputs": [
    {
     "name": "stdout",
     "output_type": "stream",
     "text": [
      "0\n"
     ]
    }
   ],
   "source": [
    "x = 8\n",
    "x &= 3\n",
    "print(x)"
   ]
  },
  {
   "cell_type": "code",
   "execution_count": 20,
   "id": "db9ce673",
   "metadata": {},
   "outputs": [
    {
     "name": "stdout",
     "output_type": "stream",
     "text": [
      "11\n"
     ]
    }
   ],
   "source": [
    "x = 8\n",
    "x |= 3\n",
    "print(x)\n"
   ]
  },
  {
   "cell_type": "code",
   "execution_count": 24,
   "id": "b8908247",
   "metadata": {},
   "outputs": [
    {
     "name": "stdout",
     "output_type": "stream",
     "text": [
      "11\n"
     ]
    }
   ],
   "source": [
    "x = 8\n",
    "x ^= 3\n",
    "print(x)\n"
   ]
  },
  {
   "cell_type": "code",
   "execution_count": 25,
   "id": "9cfa8ffe",
   "metadata": {},
   "outputs": [
    {
     "data": {
      "text/plain": [
       "False"
      ]
     },
     "execution_count": 25,
     "metadata": {},
     "output_type": "execute_result"
    }
   ],
   "source": [
    "#COMPARISON OPERATORS\n",
    "\n",
    "x = 3\n",
    "y = 1\n",
    "x == y"
   ]
  },
  {
   "cell_type": "code",
   "execution_count": 26,
   "id": "3a32775c",
   "metadata": {},
   "outputs": [
    {
     "data": {
      "text/plain": [
       "True"
      ]
     },
     "execution_count": 26,
     "metadata": {},
     "output_type": "execute_result"
    }
   ],
   "source": [
    "x = 3\n",
    "y = 1\n",
    "x != y"
   ]
  },
  {
   "cell_type": "code",
   "execution_count": 31,
   "id": "37d8c051",
   "metadata": {},
   "outputs": [
    {
     "data": {
      "text/plain": [
       "True"
      ]
     },
     "execution_count": 31,
     "metadata": {},
     "output_type": "execute_result"
    }
   ],
   "source": [
    "x = 41\n",
    "y = 10\n",
    "x > y"
   ]
  },
  {
   "cell_type": "code",
   "execution_count": 28,
   "id": "4aeafa1f",
   "metadata": {},
   "outputs": [
    {
     "data": {
      "text/plain": [
       "False"
      ]
     },
     "execution_count": 28,
     "metadata": {},
     "output_type": "execute_result"
    }
   ],
   "source": [
    "x = 3\n",
    "y = 9\n",
    "x < y"
   ]
  },
  {
   "cell_type": "code",
   "execution_count": 29,
   "id": "47f9debd",
   "metadata": {},
   "outputs": [
    {
     "data": {
      "text/plain": [
       "True"
      ]
     },
     "execution_count": 29,
     "metadata": {},
     "output_type": "execute_result"
    }
   ],
   "source": [
    "x = 3\n",
    "y = 3\n",
    "x >= y"
   ]
  },
  {
   "cell_type": "code",
   "execution_count": 30,
   "id": "ab8aa84c",
   "metadata": {},
   "outputs": [
    {
     "data": {
      "text/plain": [
       "False"
      ]
     },
     "execution_count": 30,
     "metadata": {},
     "output_type": "execute_result"
    }
   ],
   "source": [
    "x = 3\n",
    "y = 1\n",
    "x <= y"
   ]
  },
  {
   "cell_type": "code",
   "execution_count": 32,
   "id": "fe2d085a",
   "metadata": {},
   "outputs": [
    {
     "name": "stdout",
     "output_type": "stream",
     "text": [
      "True\n"
     ]
    }
   ],
   "source": [
    "#LOGICAL OPERATORS\n",
    "\n",
    "#AND\n",
    "\n",
    "a = 4\n",
    "print(a > 2 and a < 8)     #both the conditions true =true or else false"
   ]
  },
  {
   "cell_type": "code",
   "execution_count": 34,
   "id": "ea9a2772",
   "metadata": {},
   "outputs": [
    {
     "name": "stdout",
     "output_type": "stream",
     "text": [
      "True\n"
     ]
    }
   ],
   "source": [
    "#OR\n",
    "\n",
    "a = 4\n",
    "print(a > 2 or a < 8)     #any one condition true = true"
   ]
  },
  {
   "cell_type": "code",
   "execution_count": 37,
   "id": "9d13b520",
   "metadata": {},
   "outputs": [
    {
     "name": "stdout",
     "output_type": "stream",
     "text": [
      "False\n",
      "True\n"
     ]
    }
   ],
   "source": [
    "#NOT\n",
    "\n",
    "a = 4\n",
    "print(not(a < 2 or a < 8))  \n",
    "\n",
    "a = 4\n",
    "print(not(a < 2 and a < 8))"
   ]
  },
  {
   "cell_type": "code",
   "execution_count": 41,
   "id": "52cee644",
   "metadata": {},
   "outputs": [
    {
     "name": "stdout",
     "output_type": "stream",
     "text": [
      "False\n",
      "True\n"
     ]
    }
   ],
   "source": [
    "#MEMBERSHIP OPERATORS \n",
    "#IN \n",
    "\n",
    "x = (5, 4, 3, 2, 1)\n",
    "# 7 in x\n",
    "print( 7 in x)\n",
    "print(3 in x)\n"
   ]
  },
  {
   "cell_type": "code",
   "execution_count": 44,
   "id": "8f8fc363",
   "metadata": {},
   "outputs": [
    {
     "name": "stdout",
     "output_type": "stream",
     "text": [
      "True\n",
      "False\n"
     ]
    }
   ],
   "source": [
    "#NOT IN \n",
    "\n",
    "x = (5, 4, 3, 2, 1)\n",
    "#7 not in x\n",
    "print( 7 not in x)\n",
    "print(3 not in x)"
   ]
  },
  {
   "cell_type": "code",
   "execution_count": 48,
   "id": "f3832407",
   "metadata": {},
   "outputs": [
    {
     "name": "stdout",
     "output_type": "stream",
     "text": [
      "False\n",
      "False\n"
     ]
    }
   ],
   "source": [
    "#IDENTITY OPERATORS\n",
    "\n",
    "#IS\n",
    "\n",
    "a = [66, 55, 44]\n",
    "b = [11, 22, 33]\n",
    "\n",
    "print(a is b)\n",
    "\n",
    "a = [66, 55, 44]\n",
    "b = [66, 55, 44]\n",
    "print(a is b)"
   ]
  },
  {
   "cell_type": "code",
   "execution_count": 47,
   "id": "35a91a28",
   "metadata": {},
   "outputs": [
    {
     "name": "stdout",
     "output_type": "stream",
     "text": [
      "True\n"
     ]
    }
   ],
   "source": [
    "#IS NOT\n",
    "\n",
    "a = [66, 55, 44]\n",
    "b = [11, 22, 33]\n",
    "\n",
    "print(a is not b)\n"
   ]
  },
  {
   "cell_type": "code",
   "execution_count": 52,
   "id": "b917259f",
   "metadata": {},
   "outputs": [
    {
     "name": "stdout",
     "output_type": "stream",
     "text": [
      "0\n"
     ]
    }
   ],
   "source": [
    "#BITWISE OPERATORS\n",
    "\n",
    "#bitwise AND &\n",
    "\n",
    "a = 10    # 1010 \n",
    "b = 4     # 0100\n",
    "\n",
    "print(a & b)                #Returns 1 if both are 1 or else 0"
   ]
  },
  {
   "cell_type": "code",
   "execution_count": 53,
   "id": "be331200",
   "metadata": {},
   "outputs": [
    {
     "name": "stdout",
     "output_type": "stream",
     "text": [
      "14\n"
     ]
    }
   ],
   "source": [
    "#bitwise OR |\n",
    "\n",
    "a = 10    # 1010 \n",
    "b = 4     #  0100 \n",
    "\n",
    "print(a | b)                  #Returns 1 if any one value is 1 or else 0"
   ]
  },
  {
   "cell_type": "code",
   "execution_count": 54,
   "id": "ae100c06",
   "metadata": {},
   "outputs": [
    {
     "name": "stdout",
     "output_type": "stream",
     "text": [
      "-6\n"
     ]
    }
   ],
   "source": [
    "#bitwise NOT\n",
    "\n",
    "a = 5     # 0101    \n",
    "\n",
    "print(~a)"
   ]
  },
  {
   "cell_type": "code",
   "execution_count": 57,
   "id": "112fa69f",
   "metadata": {},
   "outputs": [
    {
     "name": "stdout",
     "output_type": "stream",
     "text": [
      "2\n"
     ]
    }
   ],
   "source": [
    "#bitwise EX OR ^\n",
    "\n",
    "a = 5        #101\n",
    "b = 7        #111        10 - 1\n",
    "              #          11 - 0\n",
    "print(a ^ b)"
   ]
  },
  {
   "cell_type": "code",
   "execution_count": 58,
   "id": "f2b73c5b",
   "metadata": {},
   "outputs": [
    {
     "name": "stdout",
     "output_type": "stream",
     "text": [
      "1\n"
     ]
    }
   ],
   "source": [
    "#RIGHT SHIFT >>\n",
    "\n",
    "a= 7            # 0000 0111\n",
    "print( a >> 2 ) # 0000 0001    move each of the bits to the right 2 times"
   ]
  },
  {
   "cell_type": "code",
   "execution_count": 60,
   "id": "c9ef66c9",
   "metadata": {},
   "outputs": [
    {
     "name": "stdout",
     "output_type": "stream",
     "text": [
      "56\n"
     ]
    }
   ],
   "source": [
    "#LEFT SHIFT <<\n",
    "\n",
    "a = 7             # 0000 0111\n",
    "print( a << 3 )   # 0011 1000    move each of the bits to the left 3 times"
   ]
  },
  {
   "cell_type": "code",
   "execution_count": null,
   "id": "254ef2bb",
   "metadata": {},
   "outputs": [],
   "source": []
  }
 ],
 "metadata": {
  "kernelspec": {
   "display_name": "Python 3 (ipykernel)",
   "language": "python",
   "name": "python3"
  },
  "language_info": {
   "codemirror_mode": {
    "name": "ipython",
    "version": 3
   },
   "file_extension": ".py",
   "mimetype": "text/x-python",
   "name": "python",
   "nbconvert_exporter": "python",
   "pygments_lexer": "ipython3",
   "version": "3.9.7"
  }
 },
 "nbformat": 4,
 "nbformat_minor": 5
}
