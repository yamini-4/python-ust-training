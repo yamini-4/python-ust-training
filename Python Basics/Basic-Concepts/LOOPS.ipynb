{
 "cells": [
  {
   "cell_type": "code",
   "execution_count": 1,
   "id": "d39c800c",
   "metadata": {},
   "outputs": [],
   "source": [
    "a = 210\n",
    "b = 44\n",
    "if b > a:\n",
    "    print(\"b is greater that a\")"
   ]
  },
  {
   "cell_type": "code",
   "execution_count": 2,
   "id": "9acd6100",
   "metadata": {},
   "outputs": [
    {
     "name": "stdout",
     "output_type": "stream",
     "text": [
      "a is eaual to b\n"
     ]
    }
   ],
   "source": [
    "a = 21\n",
    "b = 21\n",
    "if b > a:\n",
    "    print(\"b is greater that a\")\n",
    "elif a == b:\n",
    "    print (\"a is eaual to b\")"
   ]
  },
  {
   "cell_type": "code",
   "execution_count": 3,
   "id": "2b436387",
   "metadata": {},
   "outputs": [
    {
     "name": "stdout",
     "output_type": "stream",
     "text": [
      " a is greater\n"
     ]
    }
   ],
   "source": [
    "a = 210\n",
    "b = 21\n",
    "if b > a:\n",
    "    print(\"b is greater that a\")\n",
    "elif a == b:\n",
    "    print (\"a is eaual to b\")\n",
    "else:\n",
    "    print(\" a is greater\")"
   ]
  },
  {
   "cell_type": "code",
   "execution_count": 4,
   "id": "ade3e9de",
   "metadata": {},
   "outputs": [
    {
     "name": "stdout",
     "output_type": "stream",
     "text": [
      "above 10\n",
      "above 20\n"
     ]
    }
   ],
   "source": [
    "#NESTED IF\n",
    "\n",
    "x = 43\n",
    "if x > 10:\n",
    "    print(\"above 10\")\n",
    "    if x > 20:\n",
    "        print(\"above 20\")\n",
    "    else:\n",
    "        print(\"not above20\")"
   ]
  },
  {
   "cell_type": "code",
   "execution_count": 5,
   "id": "efe2b4f8",
   "metadata": {},
   "outputs": [
    {
     "name": "stdout",
     "output_type": "stream",
     "text": [
      "black apple\n",
      "black banana\n",
      "black grape\n",
      "red apple\n",
      "red banana\n",
      "red grape\n",
      "yellow apple\n",
      "yellow banana\n",
      "yellow grape\n",
      "green apple\n",
      "green banana\n",
      "green grape\n"
     ]
    }
   ],
   "source": [
    "#NESTED LOOP\n",
    "\n",
    "color = [\"black\", \"red\", \"yellow\", \"green\"]\n",
    "fruits = [\"apple\", \"banana\", \"grape\"]\n",
    "for x in color:\n",
    "    for y in fruits:\n",
    "        print(x, y)"
   ]
  },
  {
   "cell_type": "code",
   "execution_count": 7,
   "id": "7e17bfef",
   "metadata": {},
   "outputs": [
    {
     "name": "stdout",
     "output_type": "stream",
     "text": [
      "Hello wolrd\n"
     ]
    }
   ],
   "source": [
    "#FUNCTION\n",
    "\n",
    "def MyFunc():\n",
    "    print(\"Hello wolrd\")\n",
    "MyFunc()    "
   ]
  },
  {
   "cell_type": "code",
   "execution_count": null,
   "id": "09ef9b7f",
   "metadata": {},
   "outputs": [],
   "source": []
  }
 ],
 "metadata": {
  "kernelspec": {
   "display_name": "Python 3 (ipykernel)",
   "language": "python",
   "name": "python3"
  },
  "language_info": {
   "codemirror_mode": {
    "name": "ipython",
    "version": 3
   },
   "file_extension": ".py",
   "mimetype": "text/x-python",
   "name": "python",
   "nbconvert_exporter": "python",
   "pygments_lexer": "ipython3",
   "version": "3.9.7"
  }
 },
 "nbformat": 4,
 "nbformat_minor": 5
}
