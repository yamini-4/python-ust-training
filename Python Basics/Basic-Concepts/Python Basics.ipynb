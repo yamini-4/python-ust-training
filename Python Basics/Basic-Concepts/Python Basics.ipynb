{
 "cells": [
  {
   "cell_type": "code",
   "execution_count": 3,
   "id": "902a396f",
   "metadata": {},
   "outputs": [
    {
     "data": {
      "text/plain": [
       "['False',\n",
       " 'None',\n",
       " 'True',\n",
       " '__peg_parser__',\n",
       " 'and',\n",
       " 'as',\n",
       " 'assert',\n",
       " 'async',\n",
       " 'await',\n",
       " 'break',\n",
       " 'class',\n",
       " 'continue',\n",
       " 'def',\n",
       " 'del',\n",
       " 'elif',\n",
       " 'else',\n",
       " 'except',\n",
       " 'finally',\n",
       " 'for',\n",
       " 'from',\n",
       " 'global',\n",
       " 'if',\n",
       " 'import',\n",
       " 'in',\n",
       " 'is',\n",
       " 'lambda',\n",
       " 'nonlocal',\n",
       " 'not',\n",
       " 'or',\n",
       " 'pass',\n",
       " 'raise',\n",
       " 'return',\n",
       " 'try',\n",
       " 'while',\n",
       " 'with',\n",
       " 'yield']"
      ]
     },
     "execution_count": 3,
     "metadata": {},
     "output_type": "execute_result"
    }
   ],
   "source": [
    "import keyword\n",
    "keyword.kwlist"
   ]
  },
  {
   "cell_type": "code",
   "execution_count": 4,
   "id": "0c05a9c3",
   "metadata": {},
   "outputs": [
    {
     "data": {
      "text/plain": [
       "True"
      ]
     },
     "execution_count": 4,
     "metadata": {},
     "output_type": "execute_result"
    }
   ],
   "source": [
    "keyword.iskeyword('try')"
   ]
  },
  {
   "cell_type": "code",
   "execution_count": 5,
   "id": "938d2a2b",
   "metadata": {},
   "outputs": [
    {
     "data": {
      "text/plain": [
       "False"
      ]
     },
     "execution_count": 5,
     "metadata": {},
     "output_type": "execute_result"
    }
   ],
   "source": [
    "keyword.iskeyword('Yamini')"
   ]
  },
  {
   "cell_type": "code",
   "execution_count": 6,
   "id": "a34d4b2e",
   "metadata": {},
   "outputs": [],
   "source": [
    "name = 'Yamini'\n",
    "my_identifier = name"
   ]
  },
  {
   "cell_type": "code",
   "execution_count": 7,
   "id": "dd2182ca",
   "metadata": {},
   "outputs": [],
   "source": [
    "#this is a comment"
   ]
  },
  {
   "cell_type": "code",
   "execution_count": 8,
   "id": "fc747789",
   "metadata": {},
   "outputs": [
    {
     "name": "stdout",
     "output_type": "stream",
     "text": [
      "4\n"
     ]
    }
   ],
   "source": [
    "a = 4\n",
    "print(a)"
   ]
  },
  {
   "cell_type": "code",
   "execution_count": 12,
   "id": "ac33033d",
   "metadata": {},
   "outputs": [
    {
     "name": "stdout",
     "output_type": "stream",
     "text": [
      "44\n",
      "54\n"
     ]
    }
   ],
   "source": [
    "a = 44\n",
    "def function():\n",
    "    global a\n",
    "    a += 10\n",
    "    print(a)\n",
    "print(a)\n",
    "function()"
   ]
  },
  {
   "cell_type": "code",
   "execution_count": 14,
   "id": "8809fc0e",
   "metadata": {},
   "outputs": [
    {
     "name": "stdout",
     "output_type": "stream",
     "text": [
      "['csk', 'mi', 'rcb', 'mi', 'rcb']\n"
     ]
    }
   ],
   "source": [
    "#list\n",
    "myList = [\"csk\", \"mi\", \"rcb\", \"mi\", \"rcb\"]\n",
    "print(myList)"
   ]
  },
  {
   "cell_type": "code",
   "execution_count": 18,
   "id": "57f2d153",
   "metadata": {},
   "outputs": [
    {
     "name": "stdout",
     "output_type": "stream",
     "text": [
      "5\n"
     ]
    }
   ],
   "source": [
    "#len(myList)\n",
    "print(len(myList))"
   ]
  },
  {
   "cell_type": "code",
   "execution_count": 20,
   "id": "87db4bcd",
   "metadata": {},
   "outputs": [
    {
     "name": "stdout",
     "output_type": "stream",
     "text": [
      "['tn', 'kl', 'ka', 'ap'] [1, 2, 3, 4, 5] [True, False]\n"
     ]
    }
   ],
   "source": [
    "list1 = [\"tn\", \"kl\", \"ka\",\"ap\"]\n",
    "list2 = [1, 2, 3, 4, 5]\n",
    "list3 = [True, False]\n",
    "print(list1, list2, list3)"
   ]
  },
  {
   "cell_type": "code",
   "execution_count": 21,
   "id": "f0e72bf0",
   "metadata": {},
   "outputs": [
    {
     "name": "stdout",
     "output_type": "stream",
     "text": [
      "['tn', 'kl', 'ka', 'ap', 1, 2, 3, 4, 5, 'Male', 'FEmale']\n"
     ]
    }
   ],
   "source": [
    "lista = [\"tn\", \"kl\", \"ka\",\"ap\",1, 2, 3, 4, 5, \"Male\", \"FEmale\" ]\n",
    "print(lista)"
   ]
  },
  {
   "cell_type": "code",
   "execution_count": 22,
   "id": "9f0d48c2",
   "metadata": {},
   "outputs": [
    {
     "name": "stdout",
     "output_type": "stream",
     "text": [
      "('ind', 'aust', 'eng')\n"
     ]
    }
   ],
   "source": [
    "#tuple\n",
    "\n",
    "tuple1 = (\"ind\", \"aust\", \"eng\")\n",
    "print(tuple1)"
   ]
  },
  {
   "cell_type": "code",
   "execution_count": 27,
   "id": "e0677020",
   "metadata": {},
   "outputs": [
    {
     "name": "stdout",
     "output_type": "stream",
     "text": [
      "['csk', 'mi', 'rcb', 'mi', 'rcb']\n"
     ]
    }
   ],
   "source": [
    "tuple2 = [\"csk\", \"mi\", \"rcb\", \"mi\", \"rcb\"]\n",
    "print(tuple2)"
   ]
  },
  {
   "cell_type": "code",
   "execution_count": 28,
   "id": "324e7db4",
   "metadata": {},
   "outputs": [
    {
     "name": "stdout",
     "output_type": "stream",
     "text": [
      "('csk', 'mi', 'rcb', 'mi', 'rcb')\n"
     ]
    }
   ],
   "source": [
    "tuple2 = (\"csk\", \"mi\", \"rcb\", \"mi\", \"rcb\")\n",
    "print(tuple2)"
   ]
  },
  {
   "cell_type": "code",
   "execution_count": 29,
   "id": "67963804",
   "metadata": {},
   "outputs": [
    {
     "name": "stdout",
     "output_type": "stream",
     "text": [
      "5\n"
     ]
    }
   ],
   "source": [
    "print(len(tuple2))"
   ]
  },
  {
   "cell_type": "code",
   "execution_count": 30,
   "id": "950a40ca",
   "metadata": {},
   "outputs": [
    {
     "name": "stdout",
     "output_type": "stream",
     "text": [
      "{'mi', 'csk', 'rcb'}\n"
     ]
    }
   ],
   "source": [
    "#set\n",
    "\n",
    "set1 = {\"csk\", \"mi\", \"rcb\", \"mi\", \"rcb\"}    #duplicates are not allowed & unordered\n",
    "print(set1)"
   ]
  },
  {
   "cell_type": "code",
   "execution_count": 31,
   "id": "71c3f974",
   "metadata": {},
   "outputs": [
    {
     "name": "stdout",
     "output_type": "stream",
     "text": [
      "{1, 2, 3, 4, 5, 'FEmale', 'mi', 'csk', 'Male', 'rcb'}\n"
     ]
    }
   ],
   "source": [
    "set1 = {\"csk\", \"mi\", \"rcb\", \"mi\", \"rcb\", 1, 2, 3, 4, 5, \"Male\", \"FEmale\"}    #support diff datatypes\n",
    "print(set1)"
   ]
  },
  {
   "cell_type": "code",
   "execution_count": 33,
   "id": "8f36fc70",
   "metadata": {},
   "outputs": [
    {
     "data": {
      "text/plain": [
       "['Y', 'A', 'M', 'I', 'N', 'I']"
      ]
     },
     "execution_count": 33,
     "metadata": {},
     "output_type": "execute_result"
    }
   ],
   "source": [
    "list(\"YAMINI\")\n"
   ]
  },
  {
   "cell_type": "code",
   "execution_count": 32,
   "id": "d691b246",
   "metadata": {},
   "outputs": [
    {
     "name": "stdout",
     "output_type": "stream",
     "text": [
      "[1, 2, 3, 4, 5]\n"
     ]
    }
   ],
   "source": [
    "#LIST\n",
    "\n",
    "a = [1, 2, 3, 4]\n",
    "a.append(5)\n",
    "print(a)\n",
    "\n"
   ]
  },
  {
   "cell_type": "code",
   "execution_count": 34,
   "id": "cccdc01c",
   "metadata": {},
   "outputs": [
    {
     "name": "stdout",
     "output_type": "stream",
     "text": [
      "[1, 2, 3, 4, 5, 6]\n"
     ]
    }
   ],
   "source": [
    "a = [1,2,3]\n",
    "b = [4,5,6]\n",
    "c = a + b\n",
    "print(c)"
   ]
  },
  {
   "cell_type": "code",
   "execution_count": 36,
   "id": "32ca0655",
   "metadata": {},
   "outputs": [
    {
     "name": "stdout",
     "output_type": "stream",
     "text": [
      "[1, 2, 3, 4, 5, 6, 7, 8, 9]\n"
     ]
    }
   ],
   "source": [
    "c.extend([7,8,9])\n",
    "print(c)"
   ]
  },
  {
   "cell_type": "code",
   "execution_count": 37,
   "id": "1755cfbb",
   "metadata": {},
   "outputs": [
    {
     "name": "stdout",
     "output_type": "stream",
     "text": [
      "[9, 8, 7, 6, 5, 4, 3, 2, 1]\n"
     ]
    }
   ],
   "source": [
    "c.reverse()\n",
    "print(c)"
   ]
  },
  {
   "cell_type": "code",
   "execution_count": 38,
   "id": "8a5270eb",
   "metadata": {},
   "outputs": [
    {
     "name": "stdout",
     "output_type": "stream",
     "text": [
      "[1, 2, 3, 4, 5, 6, 7, 8, 9]\n"
     ]
    }
   ],
   "source": [
    "c.sort()\n",
    "print(c)"
   ]
  },
  {
   "cell_type": "code",
   "execution_count": 151,
   "id": "ebc63ac8",
   "metadata": {},
   "outputs": [
    {
     "name": "stdout",
     "output_type": "stream",
     "text": [
      "[1, 2, 3, 4, 1, 2, 3, 4, 1, 2, 3, 4, 1, 2, 3, 4]\n"
     ]
    }
   ],
   "source": [
    "c = [1, 2, 3, 4]\n",
    "d = c*4\n",
    "print(d)"
   ]
  },
  {
   "cell_type": "code",
   "execution_count": 150,
   "id": "5e36a1f2",
   "metadata": {},
   "outputs": [
    {
     "name": "stdout",
     "output_type": "stream",
     "text": [
      "('apps', 2.2, 4)\n"
     ]
    }
   ],
   "source": [
    "#TUPLE\n",
    "\n",
    "t = (\"apps\", 2.2, 4)\n",
    "t + (34, 66)\n",
    "print(t)\n"
   ]
  },
  {
   "cell_type": "code",
   "execution_count": 55,
   "id": "db37d00b",
   "metadata": {},
   "outputs": [
    {
     "name": "stdout",
     "output_type": "stream",
     "text": [
      "('apps', 2.2, 4)\n"
     ]
    }
   ],
   "source": [
    "t * 2\n",
    "print(t)"
   ]
  },
  {
   "cell_type": "code",
   "execution_count": 58,
   "id": "bf90b4eb",
   "metadata": {},
   "outputs": [
    {
     "data": {
      "text/plain": [
       "2"
      ]
     },
     "execution_count": 58,
     "metadata": {},
     "output_type": "execute_result"
    }
   ],
   "source": [
    "t = ((3,2), (2.2,5),(5,2),(6,7))\n",
    "t[2][1]"
   ]
  },
  {
   "cell_type": "code",
   "execution_count": 45,
   "id": "445e10b8",
   "metadata": {},
   "outputs": [
    {
     "name": "stdout",
     "output_type": "stream",
     "text": [
      "(1, 2, 4)\n",
      "(4, 3, 2)\n"
     ]
    }
   ],
   "source": [
    "a = (4,3,2)\n",
    "b = (1, 2, 4)\n",
    "a, b = b, a\n",
    "print(a)\n",
    "print(b)"
   ]
  },
  {
   "cell_type": "code",
   "execution_count": 46,
   "id": "257fd882",
   "metadata": {},
   "outputs": [
    {
     "data": {
      "text/plain": [
       "False"
      ]
     },
     "execution_count": 46,
     "metadata": {},
     "output_type": "execute_result"
    }
   ],
   "source": [
    "5 in a"
   ]
  },
  {
   "cell_type": "code",
   "execution_count": 47,
   "id": "d0c5f944",
   "metadata": {},
   "outputs": [
    {
     "data": {
      "text/plain": [
       "True"
      ]
     },
     "execution_count": 47,
     "metadata": {},
     "output_type": "execute_result"
    }
   ],
   "source": [
    "3 in  b"
   ]
  },
  {
   "cell_type": "code",
   "execution_count": 49,
   "id": "cb47a7b5",
   "metadata": {},
   "outputs": [
    {
     "name": "stdout",
     "output_type": "stream",
     "text": [
      "{41, 21, 31}\n"
     ]
    }
   ],
   "source": [
    "# SET\n",
    "\n",
    "a = {21, 31}\n",
    "a.add(41)\n",
    "print(a)\n"
   ]
  },
  {
   "cell_type": "code",
   "execution_count": 50,
   "id": "7a19ffae",
   "metadata": {},
   "outputs": [
    {
     "name": "stdout",
     "output_type": "stream",
     "text": [
      "{65, 35, 41, 44, 21, 31}\n"
     ]
    }
   ],
   "source": [
    "a.update([44, 35, 65])\n",
    "print(a)"
   ]
  },
  {
   "cell_type": "code",
   "execution_count": 152,
   "id": "6ad44511",
   "metadata": {},
   "outputs": [
    {
     "ename": "AttributeError",
     "evalue": "'int' object has no attribute 'remove'",
     "output_type": "error",
     "traceback": [
      "\u001b[0;31m---------------------------------------------------------------------------\u001b[0m",
      "\u001b[0;31mAttributeError\u001b[0m                            Traceback (most recent call last)",
      "\u001b[0;32m/var/folders/lz/dz5l72956dv398x5vv3zq5540000gn/T/ipykernel_28496/1658572403.py\u001b[0m in \u001b[0;36m<module>\u001b[0;34m\u001b[0m\n\u001b[0;32m----> 1\u001b[0;31m \u001b[0ma\u001b[0m\u001b[0;34m.\u001b[0m\u001b[0mremove\u001b[0m\u001b[0;34m(\u001b[0m\u001b[0;36m44\u001b[0m\u001b[0;34m)\u001b[0m\u001b[0;34m\u001b[0m\u001b[0;34m\u001b[0m\u001b[0m\n\u001b[0m\u001b[1;32m      2\u001b[0m \u001b[0mprint\u001b[0m\u001b[0;34m(\u001b[0m\u001b[0ma\u001b[0m\u001b[0;34m)\u001b[0m\u001b[0;34m\u001b[0m\u001b[0;34m\u001b[0m\u001b[0m\n",
      "\u001b[0;31mAttributeError\u001b[0m: 'int' object has no attribute 'remove'"
     ]
    }
   ],
   "source": [
    "a.remove(44)\n",
    "print(a)"
   ]
  },
  {
   "cell_type": "code",
   "execution_count": 153,
   "id": "5f679225",
   "metadata": {},
   "outputs": [
    {
     "name": "stdout",
     "output_type": "stream",
     "text": [
      "nPositional Order:\n",
      "to ust welcome\n"
     ]
    }
   ],
   "source": [
    "#STRING\n",
    "\n",
    "str1 = \"{1} {2} {0}\".format('welcome','to', 'ust')\n",
    "print(\"nPositional Order:\")\n",
    "print(str1)                          "
   ]
  },
  {
   "cell_type": "code",
   "execution_count": 62,
   "id": "6523db4a",
   "metadata": {},
   "outputs": [
    {
     "name": "stdout",
     "output_type": "stream",
     "text": [
      "10.0\n"
     ]
    }
   ],
   "source": [
    "a = 10\n",
    "b = float(a)\n",
    "print(b)"
   ]
  },
  {
   "cell_type": "code",
   "execution_count": 65,
   "id": "378a8e4d",
   "metadata": {},
   "outputs": [
    {
     "name": "stdout",
     "output_type": "stream",
     "text": [
      "[1, 2, 3, 4, 5]\n"
     ]
    }
   ],
   "source": [
    "a = [1, 2, 3, 4, 7, 5]\n",
    "a.remove(7)\n",
    "print(a)"
   ]
  },
  {
   "cell_type": "code",
   "execution_count": 73,
   "id": "d2164d5d",
   "metadata": {},
   "outputs": [
    {
     "name": "stdout",
     "output_type": "stream",
     "text": [
      "['x', 'y', 'z', 'u', 'v', 'u', 'y', 'x']\n",
      "['x', 'y', 'z', 'u', 'v']\n"
     ]
    }
   ],
   "source": [
    "#REMOVE DUPLICATES FROM LIST\n",
    "\n",
    "list1 = ['x','y', 'z', 'u', 'v','u', 'y', 'x']\n",
    "print(list1)\n",
    "list2 = list(dict.fromkeys(list1))\n",
    "\n",
    "print(list2)"
   ]
  },
  {
   "cell_type": "code",
   "execution_count": 74,
   "id": "8beb02ea",
   "metadata": {},
   "outputs": [
    {
     "name": "stdout",
     "output_type": "stream",
     "text": [
      "['mi', 'srh', 'kkr']\n"
     ]
    }
   ],
   "source": [
    "#printing a range  \n",
    "\n",
    "myList = [\"csk\", \"rcb\", \"mi\", \"srh\", \"kkr\", \"rr\"]\n",
    "print(myList[2:5])\n"
   ]
  },
  {
   "cell_type": "code",
   "execution_count": 75,
   "id": "dba644cf",
   "metadata": {},
   "outputs": [
    {
     "name": "stdout",
     "output_type": "stream",
     "text": [
      "rr\n"
     ]
    }
   ],
   "source": [
    "\n",
    "#Negative indexing\n",
    "\n",
    "myList = [\"csk\", \"rcb\", \"mi\", \"srh\", \"kkr\", \"rr\"]\n",
    "print(myList[-1])                                  # prints last item of list\n"
   ]
  },
  {
   "cell_type": "code",
   "execution_count": 76,
   "id": "959424d9",
   "metadata": {},
   "outputs": [
    {
     "name": "stdout",
     "output_type": "stream",
     "text": [
      "['csk', 'rcb', 'mi']\n"
     ]
    }
   ],
   "source": [
    "myList = [\"csk\", \"rcb\", \"mi\", \"srh\", \"kkr\", \"rr\"]\n",
    "print(myList[:3])\n"
   ]
  },
  {
   "cell_type": "code",
   "execution_count": 77,
   "id": "03081e33",
   "metadata": {},
   "outputs": [
    {
     "name": "stdout",
     "output_type": "stream",
     "text": [
      "['mi', 'srh', 'kkr', 'rr']\n"
     ]
    }
   ],
   "source": [
    "myList = [\"csk\", \"rcb\", \"mi\", \"srh\", \"kkr\", \"rr\"]\n",
    "print(myList[2:])\n"
   ]
  },
  {
   "cell_type": "code",
   "execution_count": 78,
   "id": "6683bac6",
   "metadata": {},
   "outputs": [
    {
     "name": "stdout",
     "output_type": "stream",
     "text": [
      "['mi', 'srh', 'kkr']\n"
     ]
    }
   ],
   "source": [
    "myList = [\"csk\", \"rcb\", \"mi\", \"srh\", \"kkr\", \"rr\"]\n",
    "print(myList[-4: -1])\n"
   ]
  },
  {
   "cell_type": "code",
   "execution_count": 79,
   "id": "27dc85cb",
   "metadata": {},
   "outputs": [
    {
     "name": "stdout",
     "output_type": "stream",
     "text": [
      "CSK  is in myLIST\n"
     ]
    }
   ],
   "source": [
    "myList = [\"csk\", \"rcb\", \"mi\", \"srh\", \"kkr\", \"rr\"]\n",
    "if \"csk\" in myList:\n",
    "    print(\"CSK  is in myLIST\")\n"
   ]
  },
  {
   "cell_type": "code",
   "execution_count": 80,
   "id": "3259171a",
   "metadata": {},
   "outputs": [
    {
     "name": "stdout",
     "output_type": "stream",
     "text": [
      "['csk', 'rcb', 'india', 'srh', 'kkr', 'rr']\n"
     ]
    }
   ],
   "source": [
    "#replace an item\n",
    "\n",
    "myList = [\"csk\", \"rcb\", \"mi\", \"srh\", \"kkr\", \"rr\"]\n",
    "myList[2] = \"india\"\n",
    "print(myList)"
   ]
  },
  {
   "cell_type": "code",
   "execution_count": 83,
   "id": "08ba134d",
   "metadata": {},
   "outputs": [
    {
     "name": "stdout",
     "output_type": "stream",
     "text": [
      "['csk', 'india', 'delhi', 'kkr', 'rr']\n"
     ]
    }
   ],
   "source": [
    "myList = [\"csk\", \"rcb\", \"mi\", \"srh\", \"kkr\", \"rr\"]\n",
    "myList[1: 4] = [\"india\", \"delhi\"]\n",
    "print(myList)"
   ]
  },
  {
   "cell_type": "code",
   "execution_count": 84,
   "id": "11280f91",
   "metadata": {},
   "outputs": [
    {
     "name": "stdout",
     "output_type": "stream",
     "text": [
      "['csk', 'rcb', 'india', 'mi', 'srh', 'kkr', 'rr']\n"
     ]
    }
   ],
   "source": [
    "# insert new item without replacing existing values at a specific index\n",
    "\n",
    "myList = [\"csk\", \"rcb\", \"mi\", \"srh\", \"kkr\", \"rr\"]\n",
    "myList.insert(2, \"india\")\n",
    "print(myList)"
   ]
  },
  {
   "cell_type": "code",
   "execution_count": 85,
   "id": "320b72da",
   "metadata": {},
   "outputs": [
    {
     "name": "stdout",
     "output_type": "stream",
     "text": [
      "['csk', 'rcb', 'mi', 'srh', 'kkr', 'rr', 'india']\n"
     ]
    }
   ],
   "source": [
    "# insert at the end of the list\n",
    "\n",
    "myList = [\"csk\", \"rcb\", \"mi\", \"srh\", \"kkr\", \"rr\"]\n",
    "myList.append(\"india\")\n",
    "print(myList)"
   ]
  },
  {
   "cell_type": "code",
   "execution_count": 86,
   "id": "80b2cd9b",
   "metadata": {},
   "outputs": [
    {
     "name": "stdout",
     "output_type": "stream",
     "text": [
      "['python', 'java', 'php', 'C', 'c++', '.net']\n"
     ]
    }
   ],
   "source": [
    "#join the lists\n",
    "\n",
    "myList = [\"python\", \"java\", \"php\", ]\n",
    "mylist2 = [\"C\", \"c++\", \".net\"]\n",
    "myList.extend(mylist2)\n",
    "print(myList)\n"
   ]
  },
  {
   "cell_type": "code",
   "execution_count": 88,
   "id": "96476adf",
   "metadata": {},
   "outputs": [
    {
     "name": "stdout",
     "output_type": "stream",
     "text": [
      "['csk', 'rcb', 'srh', 'kkr', 'rr']\n"
     ]
    }
   ],
   "source": [
    "#remove an item\n",
    "\n",
    "myList = [\"csk\", \"rcb\", \"mi\", \"srh\", \"kkr\", \"rr\"]\n",
    "myList.remove(\"mi\")\n",
    "print(myList)"
   ]
  },
  {
   "cell_type": "code",
   "execution_count": 90,
   "id": "2455ad23",
   "metadata": {},
   "outputs": [
    {
     "name": "stdout",
     "output_type": "stream",
     "text": [
      "['csk', 'rcb', 'srh', 'kkr', 'rr']\n"
     ]
    }
   ],
   "source": [
    "#remove an item\n",
    "\n",
    "myList = [\"csk\", \"rcb\", \"mi\", \"srh\", \"kkr\", \"rr\"]\n",
    "myList.pop(2,)\n",
    "print(myList)"
   ]
  },
  {
   "cell_type": "code",
   "execution_count": 91,
   "id": "8bb4c286",
   "metadata": {},
   "outputs": [
    {
     "name": "stdout",
     "output_type": "stream",
     "text": [
      "['csk', 'rcb', 'mi', 'srh', 'kkr']\n"
     ]
    }
   ],
   "source": [
    "myList = [\"csk\", \"rcb\", \"mi\", \"srh\", \"kkr\", \"rr\"]\n",
    "myList.pop()\n",
    "print(myList)"
   ]
  },
  {
   "cell_type": "code",
   "execution_count": 92,
   "id": "b714ad48",
   "metadata": {},
   "outputs": [
    {
     "ename": "SyntaxError",
     "evalue": "cannot delete function call (1760557977.py, line 2)",
     "output_type": "error",
     "traceback": [
      "\u001b[0;36m  File \u001b[0;32m\"/var/folders/lz/dz5l72956dv398x5vv3zq5540000gn/T/ipykernel_28496/1760557977.py\"\u001b[0;36m, line \u001b[0;32m2\u001b[0m\n\u001b[0;31m    del myList()\u001b[0m\n\u001b[0m        ^\u001b[0m\n\u001b[0;31mSyntaxError\u001b[0m\u001b[0;31m:\u001b[0m cannot delete function call\n"
     ]
    }
   ],
   "source": [
    "myList = [\"csk\", \"rcb\", \"mi\", \"srh\", \"kkr\", \"rr\"]\n",
    "del myList()\n",
    "print(myList)"
   ]
  },
  {
   "cell_type": "code",
   "execution_count": 93,
   "id": "ac9c61d8",
   "metadata": {},
   "outputs": [
    {
     "name": "stdout",
     "output_type": "stream",
     "text": [
      "[]\n"
     ]
    }
   ],
   "source": [
    "myList = [\"csk\", \"rcb\", \"mi\", \"srh\", \"kkr\", \"rr\"]\n",
    "myList.clear()\n",
    "print(myList)"
   ]
  },
  {
   "cell_type": "code",
   "execution_count": 95,
   "id": "5021b23a",
   "metadata": {},
   "outputs": [
    {
     "name": "stdout",
     "output_type": "stream",
     "text": [
      "csk\n",
      "rcb\n",
      "mi\n",
      "srh\n",
      "kkr\n",
      "rr\n"
     ]
    }
   ],
   "source": [
    "myList = [\"csk\", \"rcb\", \"mi\", \"srh\", \"kkr\", \"rr\"]\n",
    "for x in myList:\n",
    "    print(x)"
   ]
  },
  {
   "cell_type": "code",
   "execution_count": 96,
   "id": "848a2892",
   "metadata": {},
   "outputs": [
    {
     "name": "stdout",
     "output_type": "stream",
     "text": [
      "csk\n",
      "rcb\n",
      "mi\n",
      "srh\n",
      "kkr\n",
      "rr\n"
     ]
    }
   ],
   "source": [
    "myList = [\"csk\", \"rcb\", \"mi\", \"srh\", \"kkr\", \"rr\"]\n",
    "for x in range(len(myList)):\n",
    "    print(myList[x])"
   ]
  },
  {
   "cell_type": "code",
   "execution_count": 97,
   "id": "2615da38",
   "metadata": {},
   "outputs": [
    {
     "name": "stdout",
     "output_type": "stream",
     "text": [
      "csk\n",
      "rcb\n",
      "mi\n",
      "srh\n",
      "kkr\n",
      "rr\n"
     ]
    }
   ],
   "source": [
    "myList = [\"csk\", \"rcb\", \"mi\", \"srh\", \"kkr\", \"rr\"]\n",
    "i = 0\n",
    "while i < len(myList):\n",
    "    print(myList[i])\n",
    "    i = i+1"
   ]
  },
  {
   "cell_type": "code",
   "execution_count": 98,
   "id": "61939cdc",
   "metadata": {},
   "outputs": [
    {
     "name": "stdout",
     "output_type": "stream",
     "text": [
      "['csk', 'kkr', 'mi', 'rcb', 'rr', 'srh']\n"
     ]
    }
   ],
   "source": [
    "myList = [\"csk\", \"rcb\", \"mi\", \"srh\", \"kkr\", \"rr\"]\n",
    "myList.sort()\n",
    "print(myList)"
   ]
  },
  {
   "cell_type": "code",
   "execution_count": 99,
   "id": "821f075f",
   "metadata": {},
   "outputs": [
    {
     "name": "stdout",
     "output_type": "stream",
     "text": [
      "['srh', 'rr', 'rcb', 'mi', 'kkr', 'csk']\n"
     ]
    }
   ],
   "source": [
    "myList = [\"csk\", \"rcb\", \"mi\", \"srh\", \"kkr\", \"rr\"]\n",
    "myList.sort(reverse = True)\n",
    "print(myList)"
   ]
  },
  {
   "cell_type": "code",
   "execution_count": 101,
   "id": "16b244a4",
   "metadata": {},
   "outputs": [
    {
     "name": "stdout",
     "output_type": "stream",
     "text": [
      "[72, 45, 36, 22, 15]\n"
     ]
    }
   ],
   "source": [
    "numList = [45,72,22,15,36]\n",
    "numList.sort(reverse = True)\n",
    "print(numList)"
   ]
  },
  {
   "cell_type": "code",
   "execution_count": 104,
   "id": "7e37a084",
   "metadata": {},
   "outputs": [
    {
     "name": "stdout",
     "output_type": "stream",
     "text": [
      "['Hyderabad', 'Tvm', 'bangalore', 'chennai', 'delhi']\n"
     ]
    }
   ],
   "source": [
    "#Upper case first\n",
    "\n",
    "alist = [\"chennai\", \"bangalore\", \"Hyderabad\", \"Tvm\", \"delhi\"]\n",
    "alist.sort()\n",
    "print(alist)"
   ]
  },
  {
   "cell_type": "code",
   "execution_count": 105,
   "id": "f84abbd7",
   "metadata": {},
   "outputs": [
    {
     "name": "stdout",
     "output_type": "stream",
     "text": [
      "['bangalore', 'chennai', 'delhi', 'Hyderabad', 'Tvm']\n"
     ]
    }
   ],
   "source": [
    "#lower case first \n",
    "\n",
    "alist = [\"chennai\", \"bangalore\", \"Hyderabad\", \"Tvm\", \"delhi\"]\n",
    "alist.sort(key = str.lower)\n",
    "print(alist)"
   ]
  },
  {
   "cell_type": "code",
   "execution_count": 108,
   "id": "f51cc316",
   "metadata": {},
   "outputs": [
    {
     "name": "stdout",
     "output_type": "stream",
     "text": [
      "['delhi', 'Tvm', 'Hyderabad', 'bangalore', 'chennai']\n"
     ]
    }
   ],
   "source": [
    "alist = [\"chennai\", \"bangalore\", \"Hyderabad\", \"Tvm\", \"delhi\"]\n",
    "alist.reverse()\n",
    "print(alist)"
   ]
  },
  {
   "cell_type": "code",
   "execution_count": 109,
   "id": "998f9bd7",
   "metadata": {},
   "outputs": [
    {
     "name": "stdout",
     "output_type": "stream",
     "text": [
      "['chennai', 'bangalore', 'Hyderabad', 'Tvm', 'delhi']\n"
     ]
    }
   ],
   "source": [
    "# Copy a list to another list\n",
    "\n",
    "alist = [\"chennai\", \"bangalore\", \"Hyderabad\", \"Tvm\", \"delhi\"]\n",
    "blist = list(alist)\n",
    "print(blist)"
   ]
  },
  {
   "cell_type": "code",
   "execution_count": 111,
   "id": "3c8068d3",
   "metadata": {},
   "outputs": [
    {
     "name": "stdout",
     "output_type": "stream",
     "text": [
      "('sandee', 'umra', 'jefry', 'anil', 'gowsya')\n",
      "5\n"
     ]
    }
   ],
   "source": [
    "#TUPLES\n",
    "\n",
    "mytuple = (\"sandee\", \"umra\", \"jefry\", \"anil\", \"gowsya\")\n",
    "print(mytuple)\n",
    "print(len(mytuple))"
   ]
  },
  {
   "cell_type": "code",
   "execution_count": 112,
   "id": "18cc86e1",
   "metadata": {},
   "outputs": [
    {
     "name": "stdout",
     "output_type": "stream",
     "text": [
      "['sandee', 'umra', 'jefry', 'anil', 'gowsya']\n"
     ]
    }
   ],
   "source": [
    "\n",
    "\n",
    "mytuple = (\"sandee\", \"umra\", \"jefry\", \"anil\", \"gowsya\")\n",
    "mytuple = list(mytuple)\n",
    "print(mytuple)\n"
   ]
  },
  {
   "cell_type": "code",
   "execution_count": 113,
   "id": "28615c5f",
   "metadata": {},
   "outputs": [
    {
     "name": "stdout",
     "output_type": "stream",
     "text": [
      "['sandee', 'umra', 'jefry', 'anil', 'gowsya']\n"
     ]
    }
   ],
   "source": [
    "x = (\"sandee\", \"umra\", \"jefry\", \"anil\", \"gowsya\")\n",
    "y = list(x)\n",
    "print(y)"
   ]
  },
  {
   "cell_type": "code",
   "execution_count": 119,
   "id": "269e8376",
   "metadata": {},
   "outputs": [
    {
     "name": "stdout",
     "output_type": "stream",
     "text": [
      "('sandee', 'umra', 'jefry', 'anil', 'gowsya')\n"
     ]
    }
   ],
   "source": [
    "x =tuple(y)\n",
    "print(x)"
   ]
  },
  {
   "cell_type": "code",
   "execution_count": 120,
   "id": "b1854952",
   "metadata": {},
   "outputs": [
    {
     "name": "stdout",
     "output_type": "stream",
     "text": [
      "{'anil', 'gowsya', 'sandee', 'jefry', 'umra'}\n"
     ]
    }
   ],
   "source": [
    "#SETS\n",
    "\n",
    "myset = {\"sandee\", \"umra\", \"jefry\", \"anil\", \"gowsya\", \"umra\"}\n",
    "print(myset)"
   ]
  },
  {
   "cell_type": "code",
   "execution_count": 123,
   "id": "fd415fa0",
   "metadata": {},
   "outputs": [
    {
     "name": "stdout",
     "output_type": "stream",
     "text": [
      "{'anil', 2.3, 'gowsya', 'sandee', 'jefry', 'umra'}\n"
     ]
    }
   ],
   "source": [
    "myset = {\"sandee\", \"umra\", \"jefry\", \"anil\", \"gowsya\", 2.3}\n",
    "print(myset)"
   ]
  },
  {
   "cell_type": "code",
   "execution_count": 124,
   "id": "f3fed7cc",
   "metadata": {},
   "outputs": [
    {
     "name": "stdout",
     "output_type": "stream",
     "text": [
      "{'brand': 'maruti', 'model': 'swift', 'year': 1984}\n"
     ]
    }
   ],
   "source": [
    "#DICTIONARY\n",
    "\n",
    "mydict = {\n",
    "    \"brand\" : \"maruti\", \n",
    "    \"model\" : \"swift\",\n",
    "    \"year\" : 1984\n",
    "         }\n",
    "print(mydict)"
   ]
  },
  {
   "cell_type": "code",
   "execution_count": 125,
   "id": "53d0a602",
   "metadata": {},
   "outputs": [
    {
     "name": "stdout",
     "output_type": "stream",
     "text": [
      "1984\n"
     ]
    }
   ],
   "source": [
    "print(mydict[\"year\"])"
   ]
  },
  {
   "cell_type": "code",
   "execution_count": 128,
   "id": "3c9c44f2",
   "metadata": {},
   "outputs": [
    {
     "name": "stdout",
     "output_type": "stream",
     "text": [
      "{'brand': 'maruti', 'model': 'swift', 'year': 1998}\n"
     ]
    }
   ],
   "source": [
    "mydict = {\n",
    "    \"brand\" : \"maruti\", \n",
    "    \"model\" : \"swift\",\n",
    "    \"year\" : 1984,\n",
    "    \"year\" : 1998\n",
    "         }\n",
    "print(mydict)"
   ]
  },
  {
   "cell_type": "code",
   "execution_count": 129,
   "id": "3374a556",
   "metadata": {},
   "outputs": [
    {
     "name": "stdout",
     "output_type": "stream",
     "text": [
      "dict_keys(['brand', 'model', 'year'])\n"
     ]
    }
   ],
   "source": [
    "\n",
    "#to get only the keys\n",
    "\n",
    "print(mydict.keys())"
   ]
  },
  {
   "cell_type": "code",
   "execution_count": 131,
   "id": "6fc75b62",
   "metadata": {},
   "outputs": [
    {
     "name": "stdout",
     "output_type": "stream",
     "text": [
      "dict_values(['maruti', 'swift', 1998])\n"
     ]
    }
   ],
   "source": [
    "#to get only the values\n",
    "\n",
    "print(mydict.values())"
   ]
  },
  {
   "cell_type": "code",
   "execution_count": 132,
   "id": "ca005d37",
   "metadata": {},
   "outputs": [
    {
     "name": "stdout",
     "output_type": "stream",
     "text": [
      "{'brand': 'maruti', 'model': 'celerio', 'year': 1998}\n"
     ]
    }
   ],
   "source": [
    "#Update a value\n",
    "\n",
    "mydict = {\n",
    "    \"brand\" : \"maruti\", \n",
    "    \"model\" : \"swift\",\n",
    "    \"year\" : 1984,\n",
    "    \"year\" : 1998\n",
    "         }\n",
    "mydict[\"model\"] = \"celerio\"\n",
    "print(mydict)"
   ]
  },
  {
   "cell_type": "code",
   "execution_count": 134,
   "id": "bbb2fcc4",
   "metadata": {},
   "outputs": [
    {
     "name": "stdout",
     "output_type": "stream",
     "text": [
      "dsdfdfdnbnbnnbnbnbnbnsdjsherweruwhdbfbcdsnbcnmx\n"
     ]
    }
   ],
   "source": [
    "a =\"\"\"dsdfdfdnbnbnnbnbnbnbnsdjsherweruwhdbfbcdsnbcnmx\"\"\"\n",
    "print(a)"
   ]
  },
  {
   "cell_type": "code",
   "execution_count": 136,
   "id": "5fdcef94",
   "metadata": {},
   "outputs": [
    {
     "name": "stdout",
     "output_type": "stream",
     "text": [
      "llo\n"
     ]
    }
   ],
   "source": [
    "a = \"Hello, World\"\n",
    "print(a[2:5])"
   ]
  },
  {
   "cell_type": "code",
   "execution_count": 137,
   "id": "2d3f9a01",
   "metadata": {},
   "outputs": [
    {
     "name": "stdout",
     "output_type": "stream",
     "text": [
      ", World\n"
     ]
    }
   ],
   "source": [
    "a = \"Hello, World\"\n",
    "print(a[5:])          #after the index"
   ]
  },
  {
   "cell_type": "code",
   "execution_count": 139,
   "id": "16419182",
   "metadata": {},
   "outputs": [
    {
     "name": "stdout",
     "output_type": "stream",
     "text": [
      "HELLO, WORLD\n"
     ]
    }
   ],
   "source": [
    "a = \"Hello, World\"\n",
    "print(a.upper())          "
   ]
  },
  {
   "cell_type": "code",
   "execution_count": 140,
   "id": "faf90c36",
   "metadata": {},
   "outputs": [
    {
     "name": "stdout",
     "output_type": "stream",
     "text": [
      "hello, world\n"
     ]
    }
   ],
   "source": [
    "a = \"Hello, World\"\n",
    "print(a.lower())"
   ]
  },
  {
   "cell_type": "code",
   "execution_count": 141,
   "id": "880c55f2",
   "metadata": {},
   "outputs": [
    {
     "name": "stdout",
     "output_type": "stream",
     "text": [
      "kello, World\n"
     ]
    }
   ],
   "source": [
    "a = \"Hello, World\"\n",
    "print(a.replace(\"H\", \"k\"))"
   ]
  },
  {
   "cell_type": "code",
   "execution_count": 143,
   "id": "361fdbc4",
   "metadata": {},
   "outputs": [
    {
     "name": "stdout",
     "output_type": "stream",
     "text": [
      "hello world\n"
     ]
    }
   ],
   "source": [
    "a = \"hello \"\n",
    "b = \"world\"\n",
    "c = a + b\n",
    "print(c)"
   ]
  },
  {
   "cell_type": "code",
   "execution_count": null,
   "id": "2490ab6a",
   "metadata": {},
   "outputs": [],
   "source": []
  },
  {
   "cell_type": "code",
   "execution_count": 155,
   "id": "057a46da",
   "metadata": {},
   "outputs": [],
   "source": [
    "a = 210\n",
    "b = 44\n",
    "if b > a:\n",
    "    print(\"b is greater that a\")"
   ]
  },
  {
   "cell_type": "code",
   "execution_count": 158,
   "id": "78949121",
   "metadata": {},
   "outputs": [
    {
     "name": "stdout",
     "output_type": "stream",
     "text": [
      "a is eaual to b\n"
     ]
    }
   ],
   "source": [
    "a = 21\n",
    "b = 21\n",
    "if b > a:\n",
    "    print(\"b is greater that a\")\n",
    "elif a == b:\n",
    "    print (\"a is eaual to b\")"
   ]
  },
  {
   "cell_type": "code",
   "execution_count": 159,
   "id": "102ae3fb",
   "metadata": {},
   "outputs": [
    {
     "name": "stdout",
     "output_type": "stream",
     "text": [
      " a is greater\n"
     ]
    }
   ],
   "source": [
    "a = 210\n",
    "b = 21\n",
    "if b > a:\n",
    "    print(\"b is greater that a\")\n",
    "elif a == b:\n",
    "    print (\"a is eaual to b\")\n",
    "else:\n",
    "    print(\" a is greater\")"
   ]
  },
  {
   "cell_type": "code",
   "execution_count": 160,
   "id": "42d21b8c",
   "metadata": {},
   "outputs": [
    {
     "name": "stdout",
     "output_type": "stream",
     "text": [
      "above 10\n",
      "above 20\n"
     ]
    }
   ],
   "source": [
    "#NESTED IF\n",
    "\n",
    "x = 43\n",
    "if x > 10:\n",
    "    print(\"above 10\")\n",
    "    if x > 20:\n",
    "        print(\"above 20\")\n",
    "    else:\n",
    "        print(\"not above20\")"
   ]
  },
  {
   "cell_type": "code",
   "execution_count": 161,
   "id": "02aace5d",
   "metadata": {},
   "outputs": [
    {
     "name": "stdout",
     "output_type": "stream",
     "text": [
      "black apple\n",
      "black banana\n",
      "black grape\n",
      "red apple\n",
      "red banana\n",
      "red grape\n",
      "yellow apple\n",
      "yellow banana\n",
      "yellow grape\n",
      "green apple\n",
      "green banana\n",
      "green grape\n"
     ]
    }
   ],
   "source": [
    "#WHILE \n",
    "\n",
    "color = [\"black\", \"red\", \"yellow\", \"green\"]\n",
    "fruits = [\"apple\", \"banana\", \"grape\"]\n",
    "for x in color:\n",
    "    for y in fruits:\n",
    "        print(x, y)"
   ]
  },
  {
   "cell_type": "code",
   "execution_count": null,
   "id": "9c47ad78",
   "metadata": {},
   "outputs": [],
   "source": []
  }
 ],
 "metadata": {
  "kernelspec": {
   "display_name": "Python 3 (ipykernel)",
   "language": "python",
   "name": "python3"
  },
  "language_info": {
   "codemirror_mode": {
    "name": "ipython",
    "version": 3
   },
   "file_extension": ".py",
   "mimetype": "text/x-python",
   "name": "python",
   "nbconvert_exporter": "python",
   "pygments_lexer": "ipython3",
   "version": "3.9.7"
  }
 },
 "nbformat": 4,
 "nbformat_minor": 5
}
