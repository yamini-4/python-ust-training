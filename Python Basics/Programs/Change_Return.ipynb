{
 "cells": [
  {
   "cell_type": "code",
   "execution_count": null,
   "id": "ffdbb863",
   "metadata": {},
   "outputs": [],
   "source": [
    "\n",
    "class Change:\n",
    "    \n",
    "    @classmethod\n",
    "    def money_counter(cls, amount):\n",
    "        if amount >= 1:\n",
    "            money = amount\n",
    "        else:\n",
    "            pass\n",
    "        return money\n",
    "    \n",
    "    def penny_counter(num):\n",
    "\n",
    "        pennies = 0\n",
    "        if num // .01 >= 1:\n",
    "            pennies = num // .01\n",
    "        else:\n",
    "           pass\n",
    "        return pennies\n",
    "Change.money_counter(2356)          "
   ]
  },
  {
   "cell_type": "code",
   "execution_count": null,
   "id": "d70ee89d",
   "metadata": {},
   "outputs": [],
   "source": [
    "# 1 dollar = 100 cents\n",
    "# 1 quater = 25 cents\n",
    "# 1 dime = 10 cents\n",
    "# 1 nickel = 5 cents\n",
    "# 1 penny = 1 cent"
   ]
  },
  {
   "cell_type": "code",
   "execution_count": 7,
   "id": "1c249bb3",
   "metadata": {},
   "outputs": [
    {
     "name": "stdout",
     "output_type": "stream",
     "text": [
      "Enter the cost of the product:100\n",
      "Enter the amount paid:120.88\n",
      "20.879999999999995\n",
      "dollars 20.0\n",
      "quarter count 3.0 quarter amount 0.12999999999999545\n",
      "dimes count 1.0 dimes amount 0.029999999999995447\n",
      "nickels count 0.0 nickels amount 0.029999999999995447\n",
      "pennies count 2.0\n"
     ]
    },
    {
     "data": {
      "text/plain": [
       "'This will be the change to be received'"
      ]
     },
     "execution_count": 7,
     "metadata": {},
     "output_type": "execute_result"
    }
   ],
   "source": [
    "class Change:\n",
    "    \n",
    "    def counter(self):\n",
    "        cost = float(input(\"Enter the cost of the product:\"))\n",
    "        amount_paid = float(input(\"Enter the amount paid:\"))\n",
    "        change = amount_paid - cost\n",
    "        print(change)\n",
    "        \n",
    "        try:\n",
    "            \n",
    "            while change > 0:\n",
    "                if change // 1 >= 1:               \n",
    "                    dollar = change // 1\n",
    "                    print(\"dollars\", dollar)\n",
    "                    change = change - dollar \n",
    "                #change_amount =\n",
    "                \n",
    "                if dollar // 0.25 >= 1:\n",
    "                    quarter = change // 0.25 \n",
    "                    change = change - (quarter *0.25)\n",
    "                    print(\"quarter count\", quarter,\"quarter amount\", change)\n",
    "                #quarter = quarter *0.25\n",
    "                                \n",
    "                if quarter // 0.10 >= 1:\n",
    "                    dimes = change // 0.10\n",
    "                    change = change - (dimes*0.10) \n",
    "                #dimes = ((change - dollar)*0.25) //0.10\n",
    "                    print(\"dimes count\", dimes, \"dimes amount\", change)\n",
    "                #dimes = dimes * 0.10\n",
    "                             \n",
    "                if dimes // 0.05 >= 0.5:\n",
    "                    nickels = change// 0.05\n",
    "                    change = change - (nickels*0.05)\n",
    "                    print(\"nickels count\", nickels, \"nickels amount\", change)\n",
    "                #nickels =nickels *0.05  \n",
    "                \n",
    "                if dollar > 1:\n",
    "                    change = change // 0.01\n",
    "                    print(\"pennies count\", change)\n",
    "                return \"This will be the change to be received\"   \n",
    "        \n",
    "            if( amount_paid < cost ):\n",
    "                print(\"------Amount paid is not sufficient------\")\n",
    "        #return \"Pay Sufficient amount\"\n",
    "        \n",
    "            elif(amount_paid == cost ):\n",
    "                print(\"-----Your payment is success without any conflict------\")\n",
    "            else:\n",
    "                pass\n",
    "        except UnboundLocalError:\n",
    "            print(\"Try again.\\n\")\n",
    "            \n",
    "    \n",
    "      \n",
    "Change().counter()"
   ]
  },
  {
   "cell_type": "code",
   "execution_count": null,
   "id": "7cc0adc9",
   "metadata": {},
   "outputs": [],
   "source": []
  },
  {
   "cell_type": "code",
   "execution_count": null,
   "id": "dee094f5",
   "metadata": {},
   "outputs": [],
   "source": []
  },
  {
   "cell_type": "code",
   "execution_count": null,
   "id": "c00ca759",
   "metadata": {},
   "outputs": [],
   "source": []
  }
 ],
 "metadata": {
  "kernelspec": {
   "display_name": "Python 3 (ipykernel)",
   "language": "python",
   "name": "python3"
  },
  "language_info": {
   "codemirror_mode": {
    "name": "ipython",
    "version": 3
   },
   "file_extension": ".py",
   "mimetype": "text/x-python",
   "name": "python",
   "nbconvert_exporter": "python",
   "pygments_lexer": "ipython3",
   "version": "3.9.7"
  }
 },
 "nbformat": 4,
 "nbformat_minor": 5
}
