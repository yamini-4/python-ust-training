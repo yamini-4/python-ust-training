{
 "cells": [
  {
   "cell_type": "code",
   "execution_count": null,
   "id": "8f940206",
   "metadata": {},
   "outputs": [],
   "source": [
    "import socket \n",
    "\n",
    "s = socket.socket()\n",
    "print(\"socket created\", s)\n",
    "s.bind((\"localhost\", 9999))\n",
    "s.listen(3)\n",
    "print(\"Waiting for connection\")\n",
    "while True:\n",
    "    c.addr = s.accept()\n",
    "    name = c.recv(1024).decode()\n",
    "    print(\"Connected with client\", addr, name)\n",
    "    c.send(bytes('welcome to python socket', 'UTF-8'))          #Unicode transformation variable width char used for\n",
    "    c.close()                                                    #encoding electronic communication"
   ]
  },
  {
   "cell_type": "code",
   "execution_count": null,
   "id": "11b808a4",
   "metadata": {},
   "outputs": [],
   "source": [
    "import socket\n",
    "c=socket.socket() \n",
    "c.connect(('localhost',9999))\n",
    "name=input(\"enter your name \")\n",
    "c.send(bytes(name,'utf-8'))\n",
    "print(c.recv(1024).decode())"
   ]
  },
  {
   "cell_type": "code",
   "execution_count": null,
   "id": "9ea64eea",
   "metadata": {},
   "outputs": [],
   "source": [
    "from flask import Flask\n",
    "\n",
    "app = Flask(__name__)\n",
    "\n",
    "@app.route('/')\n",
    "def hello:\n",
    "    return \"hi\"\n",
    "if __name__ == '__main__':\n",
    "    app.run()\n"
   ]
  },
  {
   "cell_type": "code",
   "execution_count": null,
   "id": "05d6f612",
   "metadata": {},
   "outputs": [],
   "source": [
    "import socket            \n",
    "s = socket.socket()         \n",
    "host = socket.gethostname() \n",
    "port = 9999                \n",
    "s.bind((host, port))        \n",
    "\n",
    "s.listen(5)                 \n",
    "while True:\n",
    "   c, addr = s.accept() \n",
    "   print 'Got connection from', addr\n",
    "   c.send('Thank you for connecting')\n",
    "   c.close()"
   ]
  },
  {
   "cell_type": "code",
   "execution_count": null,
   "id": "9c2deb48",
   "metadata": {},
   "outputs": [],
   "source": []
  }
 ],
 "metadata": {
  "kernelspec": {
   "display_name": "Python 3 (ipykernel)",
   "language": "python",
   "name": "python3"
  },
  "language_info": {
   "codemirror_mode": {
    "name": "ipython",
    "version": 3
   },
   "file_extension": ".py",
   "mimetype": "text/x-python",
   "name": "python",
   "nbconvert_exporter": "python",
   "pygments_lexer": "ipython3",
   "version": "3.9.7"
  }
 },
 "nbformat": 4,
 "nbformat_minor": 5
}
