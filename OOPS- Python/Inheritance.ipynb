{
 "cells": [
  {
   "cell_type": "code",
   "execution_count": null,
   "id": "03b9e625",
   "metadata": {},
   "outputs": [],
   "source": [
    "#Inheritance \n",
    "\n",
    "#child class will extend the parent class"
   ]
  },
  {
   "cell_type": "code",
   "execution_count": 5,
   "id": "c0f73f09",
   "metadata": {},
   "outputs": [
    {
     "name": "stdout",
     "output_type": "stream",
     "text": [
      "A B\n",
      "A B\n"
     ]
    }
   ],
   "source": [
    "class A:               #parent\n",
    "    def a(self):\n",
    "        return self.b()\n",
    "\n",
    "    def b(self):\n",
    "        return 'A'\n",
    "\n",
    "class B(A):             #child\n",
    "    def b(self):\n",
    "        return 'B'\n",
    "\n",
    "obj1 = A()\n",
    "obj2 = B()\n",
    "print(obj1.a(), obj2.a())\n",
    "print(obj1.b(), obj2.b())"
   ]
  },
  {
   "cell_type": "code",
   "execution_count": 6,
   "id": "54f3cd42",
   "metadata": {},
   "outputs": [
    {
     "name": "stdout",
     "output_type": "stream",
     "text": [
      "Bird is ready\n",
      "Penguin is ready\n",
      "Penguin\n",
      "Swim faster\n",
      "Run faster\n"
     ]
    }
   ],
   "source": [
    "\n",
    "class Bird:\n",
    "    \n",
    "    def __init__(self):\n",
    "        print(\"Bird is ready\")\n",
    "\n",
    "    def whoisThis(self):\n",
    "        print(\"Bird\")\n",
    "\n",
    "    def swim(self):\n",
    "        print(\"Swim faster\")\n",
    "\n",
    "\n",
    "class Penguin(Bird):\n",
    "\n",
    "    def __init__(self):\n",
    "        \n",
    "        super().__init__()\n",
    "        print(\"Penguin is ready\")\n",
    "\n",
    "    def whoisThis(self):\n",
    "        print(\"Penguin\")\n",
    "\n",
    "    def run(self):\n",
    "        print(\"Run faster\")\n",
    "\n",
    "peggy = Penguin()\n",
    "peggy.whoisThis()\n",
    "peggy.swim()\n",
    "peggy.run()"
   ]
  },
  {
   "cell_type": "code",
   "execution_count": null,
   "id": "87023462",
   "metadata": {},
   "outputs": [],
   "source": []
  }
 ],
 "metadata": {
  "kernelspec": {
   "display_name": "Python 3 (ipykernel)",
   "language": "python",
   "name": "python3"
  },
  "language_info": {
   "codemirror_mode": {
    "name": "ipython",
    "version": 3
   },
   "file_extension": ".py",
   "mimetype": "text/x-python",
   "name": "python",
   "nbconvert_exporter": "python",
   "pygments_lexer": "ipython3",
   "version": "3.9.7"
  }
 },
 "nbformat": 4,
 "nbformat_minor": 5
}
