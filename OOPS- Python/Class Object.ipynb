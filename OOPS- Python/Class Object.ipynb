{
 "cells": [
  {
   "cell_type": "code",
   "execution_count": 5,
   "id": "0164342c",
   "metadata": {},
   "outputs": [
    {
     "name": "stdout",
     "output_type": "stream",
     "text": [
      "My new class is created\n"
     ]
    }
   ],
   "source": [
    "class New:\n",
    "    #pass\n",
    "    print(\"My new class is created\")"
   ]
  },
  {
   "cell_type": "code",
   "execution_count": 6,
   "id": "0f3e7f83",
   "metadata": {},
   "outputs": [],
   "source": [
    "obj = New()"
   ]
  },
  {
   "cell_type": "code",
   "execution_count": 20,
   "id": "2f7e91f4",
   "metadata": {},
   "outputs": [
    {
     "name": "stdout",
     "output_type": "stream",
     "text": [
      "Yamini 23\n",
      "ryryr 23\n"
     ]
    }
   ],
   "source": [
    "class New:\n",
    "    \n",
    "    #attributes\n",
    "    name = \"yamini\"\n",
    "    \n",
    "    def __init__(self, name, age):\n",
    "        self.name = name\n",
    "        self.age = age\n",
    "        \n",
    "      \n",
    "obj = New(\"Yamini\", 23)\n",
    "obj2 = New(\"ryryr\", 21)\n",
    "\n",
    "print(obj.name, obj.age) \n",
    "print(obj2.name, obj.age) "
   ]
  },
  {
   "cell_type": "code",
   "execution_count": 24,
   "id": "91e725c5",
   "metadata": {},
   "outputs": [
    {
     "name": "stdout",
     "output_type": "stream",
     "text": [
      "Yamini learns 'Python'\n",
      "Yamini is now working\n"
     ]
    }
   ],
   "source": [
    "#METHODS\n",
    "\n",
    "class MyClass:\n",
    "    \n",
    "    \n",
    "    def __init__(self, name, age):\n",
    "        self.name = name\n",
    "        self.age = age\n",
    "    \n",
    "    # method\n",
    "    def learn(self, language):\n",
    "        return \"{} learns {}\".format(self.name, language)\n",
    "\n",
    "    def work(self):\n",
    "        return \"{} is now working\".format(self.name)\n",
    "\n",
    "\n",
    "obj = MyClass(\"Yamini\", 20)\n",
    "\n",
    "print(obj.learn(\"'Python'\"))\n",
    "print(obj.work())"
   ]
  },
  {
   "cell_type": "code",
   "execution_count": 19,
   "id": "a9072d07",
   "metadata": {},
   "outputs": [
    {
     "name": "stdout",
     "output_type": "stream",
     "text": [
      "240 Black\n"
     ]
    }
   ],
   "source": [
    "class Car:\n",
    "    def __init__(self, speed, color):\n",
    "        self.speed = speed\n",
    "        self.color = color\n",
    "\n",
    "obj = Car(240, \"Black\")\n",
    "print(obj.speed, obj.color)"
   ]
  },
  {
   "cell_type": "code",
   "execution_count": null,
   "id": "3b274383",
   "metadata": {},
   "outputs": [],
   "source": []
  }
 ],
 "metadata": {
  "kernelspec": {
   "display_name": "Python 3 (ipykernel)",
   "language": "python",
   "name": "python3"
  },
  "language_info": {
   "codemirror_mode": {
    "name": "ipython",
    "version": 3
   },
   "file_extension": ".py",
   "mimetype": "text/x-python",
   "name": "python",
   "nbconvert_exporter": "python",
   "pygments_lexer": "ipython3",
   "version": "3.9.7"
  }
 },
 "nbformat": 4,
 "nbformat_minor": 5
}
